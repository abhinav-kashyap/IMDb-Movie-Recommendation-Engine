{
 "cells": [
  {
   "cell_type": "markdown",
   "metadata": {
    "deletable": true,
    "editable": true
   },
   "source": [
    "<h1> Team 1 - Group Project - Movie Recommendations</h1>"
   ]
  },
  {
   "cell_type": "markdown",
   "metadata": {},
   "source": [
    "<h3> Team Members:<h3>\n",
    "<h4> Abhinav Kashyap <br> Pam Askins <br> Shiyi Li <br> Xinfang Zhang <br> Mason Hansen <h4>"
   ]
  },
  {
   "cell_type": "markdown",
   "metadata": {
    "deletable": true,
    "editable": true
   },
   "source": [
    "<h5> Read the given datasets <h5>"
   ]
  },
  {
   "cell_type": "code",
   "execution_count": 1,
   "metadata": {
    "collapsed": true,
    "deletable": true,
    "editable": true
   },
   "outputs": [],
   "source": [
    "import pandas as pd\n",
    "import numpy as np\n",
    "# pass in column names for each CSV and read them using pandas. \n",
    "# Column names available in the readme file"
   ]
  },
  {
   "cell_type": "code",
   "execution_count": 2,
   "metadata": {
    "collapsed": true,
    "deletable": true,
    "editable": true
   },
   "outputs": [],
   "source": [
    "#Reading users file:\n",
    "u_cols = ['user_id', 'sex', 'age', 'occupation', 'zip_code']\n",
    "users = pd.read_csv('ml-1m/users.dat', sep='::', names=u_cols,\n",
    " encoding='latin-1', engine = 'python')"
   ]
  },
  {
   "cell_type": "code",
   "execution_count": 3,
   "metadata": {
    "collapsed": true,
    "deletable": true,
    "editable": true
   },
   "outputs": [],
   "source": [
    "#Reading the ratings file:\n",
    "r_cols = ['user_id', 'movie_id', 'rating', 'timestamp']\n",
    "ratings = pd.read_csv('ml-1m/ratings.dat', sep = '::', names = r_cols, encoding = 'latin-1', engine = 'python')"
   ]
  },
  {
   "cell_type": "code",
   "execution_count": 4,
   "metadata": {
    "collapsed": true,
    "deletable": true,
    "editable": true
   },
   "outputs": [],
   "source": [
    "#Reading movies file:\n",
    "i_cols = ['movie_id', 'title' ,'genre']\n",
    "\n",
    "movies = pd.read_csv('ml-1m/movies.dat', sep='::', names=i_cols, encoding='latin-1', engine = 'python')"
   ]
  },
  {
   "cell_type": "markdown",
   "metadata": {
    "deletable": true,
    "editable": true
   },
   "source": [
    "Lets take a look at the data files"
   ]
  },
  {
   "cell_type": "code",
   "execution_count": 5,
   "metadata": {
    "collapsed": false,
    "deletable": true,
    "editable": true
   },
   "outputs": [
    {
     "name": "stdout",
     "output_type": "stream",
     "text": [
      "(6040, 5)\n"
     ]
    },
    {
     "data": {
      "text/html": [
       "<div>\n",
       "<table border=\"1\" class=\"dataframe\">\n",
       "  <thead>\n",
       "    <tr style=\"text-align: right;\">\n",
       "      <th></th>\n",
       "      <th>user_id</th>\n",
       "      <th>sex</th>\n",
       "      <th>age</th>\n",
       "      <th>occupation</th>\n",
       "      <th>zip_code</th>\n",
       "    </tr>\n",
       "  </thead>\n",
       "  <tbody>\n",
       "    <tr>\n",
       "      <th>0</th>\n",
       "      <td>1</td>\n",
       "      <td>F</td>\n",
       "      <td>1</td>\n",
       "      <td>10</td>\n",
       "      <td>48067</td>\n",
       "    </tr>\n",
       "    <tr>\n",
       "      <th>1</th>\n",
       "      <td>2</td>\n",
       "      <td>M</td>\n",
       "      <td>56</td>\n",
       "      <td>16</td>\n",
       "      <td>70072</td>\n",
       "    </tr>\n",
       "    <tr>\n",
       "      <th>2</th>\n",
       "      <td>3</td>\n",
       "      <td>M</td>\n",
       "      <td>25</td>\n",
       "      <td>15</td>\n",
       "      <td>55117</td>\n",
       "    </tr>\n",
       "    <tr>\n",
       "      <th>3</th>\n",
       "      <td>4</td>\n",
       "      <td>M</td>\n",
       "      <td>45</td>\n",
       "      <td>7</td>\n",
       "      <td>02460</td>\n",
       "    </tr>\n",
       "    <tr>\n",
       "      <th>4</th>\n",
       "      <td>5</td>\n",
       "      <td>M</td>\n",
       "      <td>25</td>\n",
       "      <td>20</td>\n",
       "      <td>55455</td>\n",
       "    </tr>\n",
       "  </tbody>\n",
       "</table>\n",
       "</div>"
      ],
      "text/plain": [
       "   user_id sex  age  occupation zip_code\n",
       "0        1   F    1          10    48067\n",
       "1        2   M   56          16    70072\n",
       "2        3   M   25          15    55117\n",
       "3        4   M   45           7    02460\n",
       "4        5   M   25          20    55455"
      ]
     },
     "execution_count": 5,
     "metadata": {},
     "output_type": "execute_result"
    }
   ],
   "source": [
    "print (users.shape)\n",
    "users.head()"
   ]
  },
  {
   "cell_type": "code",
   "execution_count": 6,
   "metadata": {
    "collapsed": false,
    "deletable": true,
    "editable": true
   },
   "outputs": [
    {
     "name": "stdout",
     "output_type": "stream",
     "text": [
      "(1000209, 4)\n"
     ]
    },
    {
     "data": {
      "text/html": [
       "<div>\n",
       "<table border=\"1\" class=\"dataframe\">\n",
       "  <thead>\n",
       "    <tr style=\"text-align: right;\">\n",
       "      <th></th>\n",
       "      <th>user_id</th>\n",
       "      <th>movie_id</th>\n",
       "      <th>rating</th>\n",
       "      <th>timestamp</th>\n",
       "    </tr>\n",
       "  </thead>\n",
       "  <tbody>\n",
       "    <tr>\n",
       "      <th>0</th>\n",
       "      <td>1</td>\n",
       "      <td>1193</td>\n",
       "      <td>5</td>\n",
       "      <td>978300760</td>\n",
       "    </tr>\n",
       "    <tr>\n",
       "      <th>1</th>\n",
       "      <td>1</td>\n",
       "      <td>661</td>\n",
       "      <td>3</td>\n",
       "      <td>978302109</td>\n",
       "    </tr>\n",
       "    <tr>\n",
       "      <th>2</th>\n",
       "      <td>1</td>\n",
       "      <td>914</td>\n",
       "      <td>3</td>\n",
       "      <td>978301968</td>\n",
       "    </tr>\n",
       "    <tr>\n",
       "      <th>3</th>\n",
       "      <td>1</td>\n",
       "      <td>3408</td>\n",
       "      <td>4</td>\n",
       "      <td>978300275</td>\n",
       "    </tr>\n",
       "    <tr>\n",
       "      <th>4</th>\n",
       "      <td>1</td>\n",
       "      <td>2355</td>\n",
       "      <td>5</td>\n",
       "      <td>978824291</td>\n",
       "    </tr>\n",
       "  </tbody>\n",
       "</table>\n",
       "</div>"
      ],
      "text/plain": [
       "   user_id  movie_id  rating  timestamp\n",
       "0        1      1193       5  978300760\n",
       "1        1       661       3  978302109\n",
       "2        1       914       3  978301968\n",
       "3        1      3408       4  978300275\n",
       "4        1      2355       5  978824291"
      ]
     },
     "execution_count": 6,
     "metadata": {},
     "output_type": "execute_result"
    }
   ],
   "source": [
    "print (ratings.shape)\n",
    "ratings.head()"
   ]
  },
  {
   "cell_type": "code",
   "execution_count": 7,
   "metadata": {
    "collapsed": false,
    "deletable": true,
    "editable": true
   },
   "outputs": [
    {
     "name": "stdout",
     "output_type": "stream",
     "text": [
      "(3883, 3)\n"
     ]
    },
    {
     "data": {
      "text/html": [
       "<div>\n",
       "<table border=\"1\" class=\"dataframe\">\n",
       "  <thead>\n",
       "    <tr style=\"text-align: right;\">\n",
       "      <th></th>\n",
       "      <th>movie_id</th>\n",
       "      <th>title</th>\n",
       "      <th>genre</th>\n",
       "    </tr>\n",
       "  </thead>\n",
       "  <tbody>\n",
       "    <tr>\n",
       "      <th>0</th>\n",
       "      <td>1</td>\n",
       "      <td>Toy Story (1995)</td>\n",
       "      <td>Animation|Children's|Comedy</td>\n",
       "    </tr>\n",
       "    <tr>\n",
       "      <th>1</th>\n",
       "      <td>2</td>\n",
       "      <td>Jumanji (1995)</td>\n",
       "      <td>Adventure|Children's|Fantasy</td>\n",
       "    </tr>\n",
       "    <tr>\n",
       "      <th>2</th>\n",
       "      <td>3</td>\n",
       "      <td>Grumpier Old Men (1995)</td>\n",
       "      <td>Comedy|Romance</td>\n",
       "    </tr>\n",
       "    <tr>\n",
       "      <th>3</th>\n",
       "      <td>4</td>\n",
       "      <td>Waiting to Exhale (1995)</td>\n",
       "      <td>Comedy|Drama</td>\n",
       "    </tr>\n",
       "    <tr>\n",
       "      <th>4</th>\n",
       "      <td>5</td>\n",
       "      <td>Father of the Bride Part II (1995)</td>\n",
       "      <td>Comedy</td>\n",
       "    </tr>\n",
       "  </tbody>\n",
       "</table>\n",
       "</div>"
      ],
      "text/plain": [
       "   movie_id                               title                         genre\n",
       "0         1                    Toy Story (1995)   Animation|Children's|Comedy\n",
       "1         2                      Jumanji (1995)  Adventure|Children's|Fantasy\n",
       "2         3             Grumpier Old Men (1995)                Comedy|Romance\n",
       "3         4            Waiting to Exhale (1995)                  Comedy|Drama\n",
       "4         5  Father of the Bride Part II (1995)                        Comedy"
      ]
     },
     "execution_count": 7,
     "metadata": {},
     "output_type": "execute_result"
    }
   ],
   "source": [
    "print (movies.shape)\n",
    "movies.head()"
   ]
  },
  {
   "cell_type": "markdown",
   "metadata": {},
   "source": [
    "<h3> Exploratory Data Analysis <h3>"
   ]
  },
  {
   "cell_type": "code",
   "execution_count": 8,
   "metadata": {
    "collapsed": false,
    "deletable": true,
    "editable": true
   },
   "outputs": [
    {
     "name": "stdout",
     "output_type": "stream",
     "text": [
      "(1000209, 6)\n"
     ]
    },
    {
     "data": {
      "text/html": [
       "<div>\n",
       "<table border=\"1\" class=\"dataframe\">\n",
       "  <thead>\n",
       "    <tr style=\"text-align: right;\">\n",
       "      <th></th>\n",
       "      <th>movie_id</th>\n",
       "      <th>title</th>\n",
       "      <th>genre</th>\n",
       "      <th>user_id</th>\n",
       "      <th>rating</th>\n",
       "      <th>timestamp</th>\n",
       "    </tr>\n",
       "  </thead>\n",
       "  <tbody>\n",
       "    <tr>\n",
       "      <th>0</th>\n",
       "      <td>1</td>\n",
       "      <td>Toy Story (1995)</td>\n",
       "      <td>Animation|Children's|Comedy</td>\n",
       "      <td>1</td>\n",
       "      <td>5</td>\n",
       "      <td>978824268</td>\n",
       "    </tr>\n",
       "    <tr>\n",
       "      <th>1</th>\n",
       "      <td>1</td>\n",
       "      <td>Toy Story (1995)</td>\n",
       "      <td>Animation|Children's|Comedy</td>\n",
       "      <td>6</td>\n",
       "      <td>4</td>\n",
       "      <td>978237008</td>\n",
       "    </tr>\n",
       "    <tr>\n",
       "      <th>2</th>\n",
       "      <td>1</td>\n",
       "      <td>Toy Story (1995)</td>\n",
       "      <td>Animation|Children's|Comedy</td>\n",
       "      <td>8</td>\n",
       "      <td>4</td>\n",
       "      <td>978233496</td>\n",
       "    </tr>\n",
       "    <tr>\n",
       "      <th>3</th>\n",
       "      <td>1</td>\n",
       "      <td>Toy Story (1995)</td>\n",
       "      <td>Animation|Children's|Comedy</td>\n",
       "      <td>9</td>\n",
       "      <td>5</td>\n",
       "      <td>978225952</td>\n",
       "    </tr>\n",
       "    <tr>\n",
       "      <th>4</th>\n",
       "      <td>1</td>\n",
       "      <td>Toy Story (1995)</td>\n",
       "      <td>Animation|Children's|Comedy</td>\n",
       "      <td>10</td>\n",
       "      <td>5</td>\n",
       "      <td>978226474</td>\n",
       "    </tr>\n",
       "  </tbody>\n",
       "</table>\n",
       "</div>"
      ],
      "text/plain": [
       "   movie_id             title                        genre  user_id  rating  \\\n",
       "0         1  Toy Story (1995)  Animation|Children's|Comedy        1       5   \n",
       "1         1  Toy Story (1995)  Animation|Children's|Comedy        6       4   \n",
       "2         1  Toy Story (1995)  Animation|Children's|Comedy        8       4   \n",
       "3         1  Toy Story (1995)  Animation|Children's|Comedy        9       5   \n",
       "4         1  Toy Story (1995)  Animation|Children's|Comedy       10       5   \n",
       "\n",
       "   timestamp  \n",
       "0  978824268  \n",
       "1  978237008  \n",
       "2  978233496  \n",
       "3  978225952  \n",
       "4  978226474  "
      ]
     },
     "execution_count": 8,
     "metadata": {},
     "output_type": "execute_result"
    }
   ],
   "source": [
    "#Merging the movies and ratings data\n",
    "movie_ratings = movies.merge(ratings, on = 'movie_id', how = 'inner')\n",
    "print (movie_ratings.shape)\n",
    "movie_ratings.head()"
   ]
  },
  {
   "cell_type": "code",
   "execution_count": 9,
   "metadata": {
    "collapsed": false,
    "deletable": true,
    "editable": true
   },
   "outputs": [
    {
     "data": {
      "text/html": [
       "<div>\n",
       "<table border=\"1\" class=\"dataframe\">\n",
       "  <thead>\n",
       "    <tr style=\"text-align: right;\">\n",
       "      <th></th>\n",
       "      <th>movie_id</th>\n",
       "      <th>title</th>\n",
       "      <th>genre</th>\n",
       "      <th>user_id</th>\n",
       "      <th>rating</th>\n",
       "      <th>timestamp</th>\n",
       "    </tr>\n",
       "  </thead>\n",
       "  <tbody>\n",
       "    <tr>\n",
       "      <th>0</th>\n",
       "      <td>1</td>\n",
       "      <td>Toy Story (1995)</td>\n",
       "      <td>Animation|Children's|Comedy</td>\n",
       "      <td>1</td>\n",
       "      <td>5</td>\n",
       "      <td>978824268</td>\n",
       "    </tr>\n",
       "    <tr>\n",
       "      <th>1</th>\n",
       "      <td>1</td>\n",
       "      <td>Toy Story (1995)</td>\n",
       "      <td>Animation|Children's|Comedy</td>\n",
       "      <td>6</td>\n",
       "      <td>4</td>\n",
       "      <td>978237008</td>\n",
       "    </tr>\n",
       "    <tr>\n",
       "      <th>2</th>\n",
       "      <td>1</td>\n",
       "      <td>Toy Story (1995)</td>\n",
       "      <td>Animation|Children's|Comedy</td>\n",
       "      <td>8</td>\n",
       "      <td>4</td>\n",
       "      <td>978233496</td>\n",
       "    </tr>\n",
       "    <tr>\n",
       "      <th>3</th>\n",
       "      <td>1</td>\n",
       "      <td>Toy Story (1995)</td>\n",
       "      <td>Animation|Children's|Comedy</td>\n",
       "      <td>9</td>\n",
       "      <td>5</td>\n",
       "      <td>978225952</td>\n",
       "    </tr>\n",
       "    <tr>\n",
       "      <th>4</th>\n",
       "      <td>1</td>\n",
       "      <td>Toy Story (1995)</td>\n",
       "      <td>Animation|Children's|Comedy</td>\n",
       "      <td>10</td>\n",
       "      <td>5</td>\n",
       "      <td>978226474</td>\n",
       "    </tr>\n",
       "    <tr>\n",
       "      <th>5</th>\n",
       "      <td>1</td>\n",
       "      <td>Toy Story (1995)</td>\n",
       "      <td>Animation|Children's|Comedy</td>\n",
       "      <td>18</td>\n",
       "      <td>4</td>\n",
       "      <td>978154768</td>\n",
       "    </tr>\n",
       "    <tr>\n",
       "      <th>6</th>\n",
       "      <td>1</td>\n",
       "      <td>Toy Story (1995)</td>\n",
       "      <td>Animation|Children's|Comedy</td>\n",
       "      <td>19</td>\n",
       "      <td>5</td>\n",
       "      <td>978555994</td>\n",
       "    </tr>\n",
       "    <tr>\n",
       "      <th>8</th>\n",
       "      <td>1</td>\n",
       "      <td>Toy Story (1995)</td>\n",
       "      <td>Animation|Children's|Comedy</td>\n",
       "      <td>23</td>\n",
       "      <td>4</td>\n",
       "      <td>978463614</td>\n",
       "    </tr>\n",
       "    <tr>\n",
       "      <th>11</th>\n",
       "      <td>1</td>\n",
       "      <td>Toy Story (1995)</td>\n",
       "      <td>Animation|Children's|Comedy</td>\n",
       "      <td>34</td>\n",
       "      <td>5</td>\n",
       "      <td>978102970</td>\n",
       "    </tr>\n",
       "    <tr>\n",
       "      <th>12</th>\n",
       "      <td>1</td>\n",
       "      <td>Toy Story (1995)</td>\n",
       "      <td>Animation|Children's|Comedy</td>\n",
       "      <td>36</td>\n",
       "      <td>5</td>\n",
       "      <td>978061285</td>\n",
       "    </tr>\n",
       "  </tbody>\n",
       "</table>\n",
       "</div>"
      ],
      "text/plain": [
       "    movie_id             title                        genre  user_id  rating  \\\n",
       "0          1  Toy Story (1995)  Animation|Children's|Comedy        1       5   \n",
       "1          1  Toy Story (1995)  Animation|Children's|Comedy        6       4   \n",
       "2          1  Toy Story (1995)  Animation|Children's|Comedy        8       4   \n",
       "3          1  Toy Story (1995)  Animation|Children's|Comedy        9       5   \n",
       "4          1  Toy Story (1995)  Animation|Children's|Comedy       10       5   \n",
       "5          1  Toy Story (1995)  Animation|Children's|Comedy       18       4   \n",
       "6          1  Toy Story (1995)  Animation|Children's|Comedy       19       5   \n",
       "8          1  Toy Story (1995)  Animation|Children's|Comedy       23       4   \n",
       "11         1  Toy Story (1995)  Animation|Children's|Comedy       34       5   \n",
       "12         1  Toy Story (1995)  Animation|Children's|Comedy       36       5   \n",
       "\n",
       "    timestamp  \n",
       "0   978824268  \n",
       "1   978237008  \n",
       "2   978233496  \n",
       "3   978225952  \n",
       "4   978226474  \n",
       "5   978154768  \n",
       "6   978555994  \n",
       "8   978463614  \n",
       "11  978102970  \n",
       "12  978061285  "
      ]
     },
     "execution_count": 9,
     "metadata": {},
     "output_type": "execute_result"
    }
   ],
   "source": [
    "#Display highly rated movies\n",
    "high_rated = movie_ratings['rating'] >= 4.0\n",
    "movie_ratings[high_rated].head(10)"
   ]
  },
  {
   "cell_type": "code",
   "execution_count": 10,
   "metadata": {
    "collapsed": false,
    "deletable": true,
    "editable": true
   },
   "outputs": [
    {
     "data": {
      "text/html": [
       "<div>\n",
       "<table border=\"1\" class=\"dataframe\">\n",
       "  <thead>\n",
       "    <tr style=\"text-align: right;\">\n",
       "      <th></th>\n",
       "      <th>movie_id</th>\n",
       "      <th>title</th>\n",
       "      <th>genre</th>\n",
       "      <th>user_id</th>\n",
       "      <th>rating</th>\n",
       "      <th>timestamp</th>\n",
       "    </tr>\n",
       "  </thead>\n",
       "  <tbody>\n",
       "    <tr>\n",
       "      <th>7</th>\n",
       "      <td>1</td>\n",
       "      <td>Toy Story (1995)</td>\n",
       "      <td>Animation|Children's|Comedy</td>\n",
       "      <td>21</td>\n",
       "      <td>3</td>\n",
       "      <td>978139347</td>\n",
       "    </tr>\n",
       "    <tr>\n",
       "      <th>9</th>\n",
       "      <td>1</td>\n",
       "      <td>Toy Story (1995)</td>\n",
       "      <td>Animation|Children's|Comedy</td>\n",
       "      <td>26</td>\n",
       "      <td>3</td>\n",
       "      <td>978130703</td>\n",
       "    </tr>\n",
       "    <tr>\n",
       "      <th>10</th>\n",
       "      <td>1</td>\n",
       "      <td>Toy Story (1995)</td>\n",
       "      <td>Animation|Children's|Comedy</td>\n",
       "      <td>28</td>\n",
       "      <td>3</td>\n",
       "      <td>978985309</td>\n",
       "    </tr>\n",
       "    <tr>\n",
       "      <th>22</th>\n",
       "      <td>1</td>\n",
       "      <td>Toy Story (1995)</td>\n",
       "      <td>Animation|Children's|Comedy</td>\n",
       "      <td>68</td>\n",
       "      <td>3</td>\n",
       "      <td>991376026</td>\n",
       "    </tr>\n",
       "    <tr>\n",
       "      <th>23</th>\n",
       "      <td>1</td>\n",
       "      <td>Toy Story (1995)</td>\n",
       "      <td>Animation|Children's|Comedy</td>\n",
       "      <td>73</td>\n",
       "      <td>3</td>\n",
       "      <td>977867812</td>\n",
       "    </tr>\n",
       "    <tr>\n",
       "      <th>27</th>\n",
       "      <td>1</td>\n",
       "      <td>Toy Story (1995)</td>\n",
       "      <td>Animation|Children's|Comedy</td>\n",
       "      <td>80</td>\n",
       "      <td>3</td>\n",
       "      <td>977786904</td>\n",
       "    </tr>\n",
       "    <tr>\n",
       "      <th>28</th>\n",
       "      <td>1</td>\n",
       "      <td>Toy Story (1995)</td>\n",
       "      <td>Animation|Children's|Comedy</td>\n",
       "      <td>90</td>\n",
       "      <td>3</td>\n",
       "      <td>993872933</td>\n",
       "    </tr>\n",
       "    <tr>\n",
       "      <th>31</th>\n",
       "      <td>1</td>\n",
       "      <td>Toy Story (1995)</td>\n",
       "      <td>Animation|Children's|Comedy</td>\n",
       "      <td>99</td>\n",
       "      <td>3</td>\n",
       "      <td>982873678</td>\n",
       "    </tr>\n",
       "    <tr>\n",
       "      <th>34</th>\n",
       "      <td>1</td>\n",
       "      <td>Toy Story (1995)</td>\n",
       "      <td>Animation|Children's|Comedy</td>\n",
       "      <td>114</td>\n",
       "      <td>3</td>\n",
       "      <td>977506130</td>\n",
       "    </tr>\n",
       "    <tr>\n",
       "      <th>35</th>\n",
       "      <td>1</td>\n",
       "      <td>Toy Story (1995)</td>\n",
       "      <td>Animation|Children's|Comedy</td>\n",
       "      <td>117</td>\n",
       "      <td>3</td>\n",
       "      <td>977498304</td>\n",
       "    </tr>\n",
       "  </tbody>\n",
       "</table>\n",
       "</div>"
      ],
      "text/plain": [
       "    movie_id             title                        genre  user_id  rating  \\\n",
       "7          1  Toy Story (1995)  Animation|Children's|Comedy       21       3   \n",
       "9          1  Toy Story (1995)  Animation|Children's|Comedy       26       3   \n",
       "10         1  Toy Story (1995)  Animation|Children's|Comedy       28       3   \n",
       "22         1  Toy Story (1995)  Animation|Children's|Comedy       68       3   \n",
       "23         1  Toy Story (1995)  Animation|Children's|Comedy       73       3   \n",
       "27         1  Toy Story (1995)  Animation|Children's|Comedy       80       3   \n",
       "28         1  Toy Story (1995)  Animation|Children's|Comedy       90       3   \n",
       "31         1  Toy Story (1995)  Animation|Children's|Comedy       99       3   \n",
       "34         1  Toy Story (1995)  Animation|Children's|Comedy      114       3   \n",
       "35         1  Toy Story (1995)  Animation|Children's|Comedy      117       3   \n",
       "\n",
       "    timestamp  \n",
       "7   978139347  \n",
       "9   978130703  \n",
       "10  978985309  \n",
       "22  991376026  \n",
       "23  977867812  \n",
       "27  977786904  \n",
       "28  993872933  \n",
       "31  982873678  \n",
       "34  977506130  \n",
       "35  977498304  "
      ]
     },
     "execution_count": 10,
     "metadata": {},
     "output_type": "execute_result"
    }
   ],
   "source": [
    "#Display low rated movies\n",
    "low_rated = movie_ratings['rating'] < 4.0\n",
    "movie_ratings[low_rated].head(10)"
   ]
  },
  {
   "cell_type": "code",
   "execution_count": 11,
   "metadata": {
    "collapsed": false,
    "deletable": true,
    "editable": true
   },
   "outputs": [
    {
     "name": "stdout",
     "output_type": "stream",
     "text": [
      "Number of users = 6040 | Number of movies = 3706\n"
     ]
    }
   ],
   "source": [
    "#count the number of unique users and movies.\n",
    "n_users = ratings.user_id.unique().shape[0]\n",
    "n_movies = ratings.movie_id.unique().shape[0]\n",
    "print ('Number of users = ' + str(n_users) + ' | Number of movies = ' + str(n_movies))"
   ]
  },
  {
   "cell_type": "code",
   "execution_count": 12,
   "metadata": {
    "collapsed": false,
    "deletable": true,
    "editable": true
   },
   "outputs": [
    {
     "data": {
      "text/plain": [
       "301"
      ]
     },
     "execution_count": 12,
     "metadata": {},
     "output_type": "execute_result"
    }
   ],
   "source": [
    "#Total number of unique genres\n",
    "unique_genre = movies['genre'].unique().tolist()\n",
    "len(unique_genre)"
   ]
  },
  {
   "cell_type": "code",
   "execution_count": 13,
   "metadata": {
    "collapsed": false,
    "deletable": true,
    "editable": true
   },
   "outputs": [
    {
     "data": {
      "text/plain": [
       "title\n",
       "American Beauty (1999)                                   3428\n",
       "Star Wars: Episode IV - A New Hope (1977)                2991\n",
       "Star Wars: Episode V - The Empire Strikes Back (1980)    2990\n",
       "Star Wars: Episode VI - Return of the Jedi (1983)        2883\n",
       "Jurassic Park (1993)                                     2672\n",
       "Saving Private Ryan (1998)                               2653\n",
       "Terminator 2: Judgment Day (1991)                        2649\n",
       "Matrix, The (1999)                                       2590\n",
       "Back to the Future (1985)                                2583\n",
       "Silence of the Lambs, The (1991)                         2578\n",
       "Men in Black (1997)                                      2538\n",
       "Raiders of the Lost Ark (1981)                           2514\n",
       "Fargo (1996)                                             2513\n",
       "Sixth Sense, The (1999)                                  2459\n",
       "Braveheart (1995)                                        2443\n",
       "Shakespeare in Love (1998)                               2369\n",
       "Princess Bride, The (1987)                               2318\n",
       "Schindler's List (1993)                                  2304\n",
       "L.A. Confidential (1997)                                 2288\n",
       "Groundhog Day (1993)                                     2278\n",
       "E.T. the Extra-Terrestrial (1982)                        2269\n",
       "Star Wars: Episode I - The Phantom Menace (1999)         2250\n",
       "Being John Malkovich (1999)                              2241\n",
       "Shawshank Redemption, The (1994)                         2227\n",
       "Godfather, The (1972)                                    2223\n",
       "dtype: int64"
      ]
     },
     "execution_count": 13,
     "metadata": {},
     "output_type": "execute_result"
    }
   ],
   "source": [
    "#Top 25 most rated movies\n",
    "most_rated = movie_ratings.groupby('title').size().sort_values(ascending=False)[:25]\n",
    "most_rated.head(25)"
   ]
  },
  {
   "cell_type": "code",
   "execution_count": 14,
   "metadata": {
    "collapsed": false,
    "deletable": true,
    "editable": true
   },
   "outputs": [
    {
     "data": {
      "text/html": [
       "<div>\n",
       "<table border=\"1\" class=\"dataframe\">\n",
       "  <thead>\n",
       "    <tr>\n",
       "      <th></th>\n",
       "      <th colspan=\"2\" halign=\"left\">rating</th>\n",
       "    </tr>\n",
       "    <tr>\n",
       "      <th></th>\n",
       "      <th>size</th>\n",
       "      <th>mean</th>\n",
       "    </tr>\n",
       "    <tr>\n",
       "      <th>title</th>\n",
       "      <th></th>\n",
       "      <th></th>\n",
       "    </tr>\n",
       "  </thead>\n",
       "  <tbody>\n",
       "    <tr>\n",
       "      <th>Seven Samurai (The Magnificent Seven) (Shichinin no samurai) (1954)</th>\n",
       "      <td>628</td>\n",
       "      <td>4.560510</td>\n",
       "    </tr>\n",
       "    <tr>\n",
       "      <th>Shawshank Redemption, The (1994)</th>\n",
       "      <td>2227</td>\n",
       "      <td>4.554558</td>\n",
       "    </tr>\n",
       "    <tr>\n",
       "      <th>Godfather, The (1972)</th>\n",
       "      <td>2223</td>\n",
       "      <td>4.524966</td>\n",
       "    </tr>\n",
       "    <tr>\n",
       "      <th>Close Shave, A (1995)</th>\n",
       "      <td>657</td>\n",
       "      <td>4.520548</td>\n",
       "    </tr>\n",
       "    <tr>\n",
       "      <th>Usual Suspects, The (1995)</th>\n",
       "      <td>1783</td>\n",
       "      <td>4.517106</td>\n",
       "    </tr>\n",
       "    <tr>\n",
       "      <th>Schindler's List (1993)</th>\n",
       "      <td>2304</td>\n",
       "      <td>4.510417</td>\n",
       "    </tr>\n",
       "    <tr>\n",
       "      <th>Wrong Trousers, The (1993)</th>\n",
       "      <td>882</td>\n",
       "      <td>4.507937</td>\n",
       "    </tr>\n",
       "    <tr>\n",
       "      <th>Sunset Blvd. (a.k.a. Sunset Boulevard) (1950)</th>\n",
       "      <td>470</td>\n",
       "      <td>4.491489</td>\n",
       "    </tr>\n",
       "    <tr>\n",
       "      <th>Raiders of the Lost Ark (1981)</th>\n",
       "      <td>2514</td>\n",
       "      <td>4.477725</td>\n",
       "    </tr>\n",
       "    <tr>\n",
       "      <th>Rear Window (1954)</th>\n",
       "      <td>1050</td>\n",
       "      <td>4.476190</td>\n",
       "    </tr>\n",
       "    <tr>\n",
       "      <th>Paths of Glory (1957)</th>\n",
       "      <td>230</td>\n",
       "      <td>4.473913</td>\n",
       "    </tr>\n",
       "    <tr>\n",
       "      <th>Star Wars: Episode IV - A New Hope (1977)</th>\n",
       "      <td>2991</td>\n",
       "      <td>4.453694</td>\n",
       "    </tr>\n",
       "    <tr>\n",
       "      <th>Third Man, The (1949)</th>\n",
       "      <td>480</td>\n",
       "      <td>4.452083</td>\n",
       "    </tr>\n",
       "    <tr>\n",
       "      <th>Dr. Strangelove or: How I Learned to Stop Worrying and Love the Bomb (1963)</th>\n",
       "      <td>1367</td>\n",
       "      <td>4.449890</td>\n",
       "    </tr>\n",
       "    <tr>\n",
       "      <th>Wallace &amp; Gromit: The Best of Aardman Animation (1996)</th>\n",
       "      <td>438</td>\n",
       "      <td>4.426941</td>\n",
       "    </tr>\n",
       "  </tbody>\n",
       "</table>\n",
       "</div>"
      ],
      "text/plain": [
       "                                                   rating          \n",
       "                                                     size      mean\n",
       "title                                                              \n",
       "Seven Samurai (The Magnificent Seven) (Shichini...    628  4.560510\n",
       "Shawshank Redemption, The (1994)                     2227  4.554558\n",
       "Godfather, The (1972)                                2223  4.524966\n",
       "Close Shave, A (1995)                                 657  4.520548\n",
       "Usual Suspects, The (1995)                           1783  4.517106\n",
       "Schindler's List (1993)                              2304  4.510417\n",
       "Wrong Trousers, The (1993)                            882  4.507937\n",
       "Sunset Blvd. (a.k.a. Sunset Boulevard) (1950)         470  4.491489\n",
       "Raiders of the Lost Ark (1981)                       2514  4.477725\n",
       "Rear Window (1954)                                   1050  4.476190\n",
       "Paths of Glory (1957)                                 230  4.473913\n",
       "Star Wars: Episode IV - A New Hope (1977)            2991  4.453694\n",
       "Third Man, The (1949)                                 480  4.452083\n",
       "Dr. Strangelove or: How I Learned to Stop Worry...   1367  4.449890\n",
       "Wallace & Gromit: The Best of Aardman Animation...    438  4.426941"
      ]
     },
     "execution_count": 14,
     "metadata": {},
     "output_type": "execute_result"
    }
   ],
   "source": [
    "#Top 15 highest rated movies\n",
    "highest_rated = movie_ratings.groupby('title').agg({'rating': [np.size, np.mean]})\n",
    "\n",
    "#The above movies are rated so rarely that we can't count them as quality films. \n",
    "#Let's only look at movies that have been rated at least 100 times.\n",
    "\n",
    "atleast_100 = highest_rated['rating']['size'] >= 100\n",
    "highest_rated[atleast_100].sort_values([('rating', 'mean')], ascending=False)[:15]"
   ]
  },
  {
   "cell_type": "code",
   "execution_count": 15,
   "metadata": {
    "collapsed": false,
    "deletable": true,
    "editable": true
   },
   "outputs": [
    {
     "data": {
      "text/html": [
       "<div>\n",
       "<table border=\"1\" class=\"dataframe\">\n",
       "  <thead>\n",
       "    <tr style=\"text-align: right;\">\n",
       "      <th></th>\n",
       "      <th>title</th>\n",
       "      <th>ratingCount</th>\n",
       "    </tr>\n",
       "  </thead>\n",
       "  <tbody>\n",
       "    <tr>\n",
       "      <th>127</th>\n",
       "      <td>American Beauty (1999)</td>\n",
       "      <td>3428</td>\n",
       "    </tr>\n",
       "    <tr>\n",
       "      <th>3153</th>\n",
       "      <td>Star Wars: Episode IV - A New Hope (1977)</td>\n",
       "      <td>2991</td>\n",
       "    </tr>\n",
       "    <tr>\n",
       "      <th>3154</th>\n",
       "      <td>Star Wars: Episode V - The Empire Strikes Back...</td>\n",
       "      <td>2990</td>\n",
       "    </tr>\n",
       "    <tr>\n",
       "      <th>3155</th>\n",
       "      <td>Star Wars: Episode VI - Return of the Jedi (1983)</td>\n",
       "      <td>2883</td>\n",
       "    </tr>\n",
       "    <tr>\n",
       "      <th>1789</th>\n",
       "      <td>Jurassic Park (1993)</td>\n",
       "      <td>2672</td>\n",
       "    </tr>\n",
       "  </tbody>\n",
       "</table>\n",
       "</div>"
      ],
      "text/plain": [
       "                                                  title  ratingCount\n",
       "127                              American Beauty (1999)         3428\n",
       "3153          Star Wars: Episode IV - A New Hope (1977)         2991\n",
       "3154  Star Wars: Episode V - The Empire Strikes Back...         2990\n",
       "3155  Star Wars: Episode VI - Return of the Jedi (1983)         2883\n",
       "1789                               Jurassic Park (1993)         2672"
      ]
     },
     "execution_count": 15,
     "metadata": {},
     "output_type": "execute_result"
    }
   ],
   "source": [
    "# create Dataframe: ratings count per movie\n",
    "ratingCount = pd.DataFrame(movie_ratings.groupby('title', as_index = False)['rating'].count()\n",
    "                              .rename(columns={'rating' : 'ratingCount'}))\n",
    "ratingCount.sort_values('ratingCount',ascending=False).head(5)"
   ]
  },
  {
   "cell_type": "code",
   "execution_count": 16,
   "metadata": {
    "collapsed": false,
    "deletable": true,
    "editable": true
   },
   "outputs": [
    {
     "data": {
      "text/html": [
       "<div>\n",
       "<table border=\"1\" class=\"dataframe\">\n",
       "  <thead>\n",
       "    <tr style=\"text-align: right;\">\n",
       "      <th></th>\n",
       "      <th>title</th>\n",
       "      <th>ratingMean</th>\n",
       "    </tr>\n",
       "  </thead>\n",
       "  <tbody>\n",
       "    <tr>\n",
       "      <th>3477</th>\n",
       "      <td>Ulysses (Ulisse) (1954)</td>\n",
       "      <td>5.0</td>\n",
       "    </tr>\n",
       "    <tr>\n",
       "      <th>2025</th>\n",
       "      <td>Lured (1947)</td>\n",
       "      <td>5.0</td>\n",
       "    </tr>\n",
       "    <tr>\n",
       "      <th>1203</th>\n",
       "      <td>Follow the Bitch (1998)</td>\n",
       "      <td>5.0</td>\n",
       "    </tr>\n",
       "    <tr>\n",
       "      <th>407</th>\n",
       "      <td>Bittersweet Motel (2000)</td>\n",
       "      <td>5.0</td>\n",
       "    </tr>\n",
       "    <tr>\n",
       "      <th>3087</th>\n",
       "      <td>Song of Freedom (1936)</td>\n",
       "      <td>5.0</td>\n",
       "    </tr>\n",
       "  </tbody>\n",
       "</table>\n",
       "</div>"
      ],
      "text/plain": [
       "                         title  ratingMean\n",
       "3477   Ulysses (Ulisse) (1954)         5.0\n",
       "2025              Lured (1947)         5.0\n",
       "1203   Follow the Bitch (1998)         5.0\n",
       "407   Bittersweet Motel (2000)         5.0\n",
       "3087    Song of Freedom (1936)         5.0"
      ]
     },
     "execution_count": 16,
     "metadata": {},
     "output_type": "execute_result"
    }
   ],
   "source": [
    "# create Dataframe: mean rating per movie\n",
    "ratingMean = pd.DataFrame(movie_ratings.groupby('title', as_index = False)['rating'].mean()\n",
    "                              .rename(columns={'rating' : 'ratingMean'}))\n",
    "ratingMean.sort_values('ratingMean',ascending=False).head(5)"
   ]
  },
  {
   "cell_type": "code",
   "execution_count": 17,
   "metadata": {
    "collapsed": false,
    "deletable": true,
    "editable": true
   },
   "outputs": [
    {
     "data": {
      "text/html": [
       "<div>\n",
       "<table border=\"1\" class=\"dataframe\">\n",
       "  <thead>\n",
       "    <tr style=\"text-align: right;\">\n",
       "      <th></th>\n",
       "      <th>title</th>\n",
       "      <th>ratingCount</th>\n",
       "      <th>ratingMean</th>\n",
       "    </tr>\n",
       "  </thead>\n",
       "  <tbody>\n",
       "    <tr>\n",
       "      <th>127</th>\n",
       "      <td>American Beauty (1999)</td>\n",
       "      <td>3428</td>\n",
       "      <td>4.317386</td>\n",
       "    </tr>\n",
       "    <tr>\n",
       "      <th>3153</th>\n",
       "      <td>Star Wars: Episode IV - A New Hope (1977)</td>\n",
       "      <td>2991</td>\n",
       "      <td>4.453694</td>\n",
       "    </tr>\n",
       "    <tr>\n",
       "      <th>3154</th>\n",
       "      <td>Star Wars: Episode V - The Empire Strikes Back...</td>\n",
       "      <td>2990</td>\n",
       "      <td>4.292977</td>\n",
       "    </tr>\n",
       "    <tr>\n",
       "      <th>3155</th>\n",
       "      <td>Star Wars: Episode VI - Return of the Jedi (1983)</td>\n",
       "      <td>2883</td>\n",
       "      <td>4.022893</td>\n",
       "    </tr>\n",
       "    <tr>\n",
       "      <th>1789</th>\n",
       "      <td>Jurassic Park (1993)</td>\n",
       "      <td>2672</td>\n",
       "      <td>3.763847</td>\n",
       "    </tr>\n",
       "  </tbody>\n",
       "</table>\n",
       "</div>"
      ],
      "text/plain": [
       "                                                  title  ratingCount  \\\n",
       "127                              American Beauty (1999)         3428   \n",
       "3153          Star Wars: Episode IV - A New Hope (1977)         2991   \n",
       "3154  Star Wars: Episode V - The Empire Strikes Back...         2990   \n",
       "3155  Star Wars: Episode VI - Return of the Jedi (1983)         2883   \n",
       "1789                               Jurassic Park (1993)         2672   \n",
       "\n",
       "      ratingMean  \n",
       "127     4.317386  \n",
       "3153    4.453694  \n",
       "3154    4.292977  \n",
       "3155    4.022893  \n",
       "1789    3.763847  "
      ]
     },
     "execution_count": 17,
     "metadata": {},
     "output_type": "execute_result"
    }
   ],
   "source": [
    "# create Dataframe: ratings count and mean rating per movie\n",
    "movies_ext = pd.merge(ratingCount,ratingMean, on='title')\n",
    "movies_ext.sort_values('ratingCount',ascending=False).head(5)"
   ]
  },
  {
   "cell_type": "code",
   "execution_count": 18,
   "metadata": {
    "collapsed": false,
    "deletable": true,
    "editable": true
   },
   "outputs": [
    {
     "data": {
      "text/html": [
       "<div>\n",
       "<table border=\"1\" class=\"dataframe\">\n",
       "  <thead>\n",
       "    <tr style=\"text-align: right;\">\n",
       "      <th></th>\n",
       "      <th>rating</th>\n",
       "      <th>ratingCount</th>\n",
       "    </tr>\n",
       "  </thead>\n",
       "  <tbody>\n",
       "    <tr>\n",
       "      <th>0</th>\n",
       "      <td>1</td>\n",
       "      <td>56174</td>\n",
       "    </tr>\n",
       "    <tr>\n",
       "      <th>1</th>\n",
       "      <td>2</td>\n",
       "      <td>107557</td>\n",
       "    </tr>\n",
       "    <tr>\n",
       "      <th>2</th>\n",
       "      <td>3</td>\n",
       "      <td>261197</td>\n",
       "    </tr>\n",
       "    <tr>\n",
       "      <th>3</th>\n",
       "      <td>4</td>\n",
       "      <td>348971</td>\n",
       "    </tr>\n",
       "    <tr>\n",
       "      <th>4</th>\n",
       "      <td>5</td>\n",
       "      <td>226310</td>\n",
       "    </tr>\n",
       "  </tbody>\n",
       "</table>\n",
       "</div>"
      ],
      "text/plain": [
       "   rating  ratingCount\n",
       "0       1        56174\n",
       "1       2       107557\n",
       "2       3       261197\n",
       "3       4       348971\n",
       "4       5       226310"
      ]
     },
     "execution_count": 18,
     "metadata": {},
     "output_type": "execute_result"
    }
   ],
   "source": [
    "# create Dataframe: ratings count per value\n",
    "rating_dist= pd.DataFrame(ratings.groupby('rating', as_index = False)['user_id'].count()\n",
    "                         .rename(columns={'user_id' : 'ratingCount'}))\n",
    "rating_dist.head(10)"
   ]
  },
  {
   "cell_type": "code",
   "execution_count": 19,
   "metadata": {
    "collapsed": false,
    "deletable": true,
    "editable": true
   },
   "outputs": [
    {
     "data": {
      "text/html": [
       "<div>\n",
       "<table border=\"1\" class=\"dataframe\">\n",
       "  <thead>\n",
       "    <tr style=\"text-align: right;\">\n",
       "      <th></th>\n",
       "      <th>Total</th>\n",
       "    </tr>\n",
       "    <tr>\n",
       "      <th>user_id</th>\n",
       "      <th></th>\n",
       "    </tr>\n",
       "  </thead>\n",
       "  <tbody>\n",
       "    <tr>\n",
       "      <th>4169</th>\n",
       "      <td>2314</td>\n",
       "    </tr>\n",
       "    <tr>\n",
       "      <th>1680</th>\n",
       "      <td>1850</td>\n",
       "    </tr>\n",
       "    <tr>\n",
       "      <th>4277</th>\n",
       "      <td>1743</td>\n",
       "    </tr>\n",
       "    <tr>\n",
       "      <th>1941</th>\n",
       "      <td>1595</td>\n",
       "    </tr>\n",
       "    <tr>\n",
       "      <th>1181</th>\n",
       "      <td>1521</td>\n",
       "    </tr>\n",
       "  </tbody>\n",
       "</table>\n",
       "</div>"
      ],
      "text/plain": [
       "         Total\n",
       "user_id       \n",
       "4169      2314\n",
       "1680      1850\n",
       "4277      1743\n",
       "1941      1595\n",
       "1181      1521"
      ]
     },
     "execution_count": 19,
     "metadata": {},
     "output_type": "execute_result"
    }
   ],
   "source": [
    "# the users with most ratings\n",
    "ratings_per_user = ratings[['user_id', 'movie_id']].groupby('user_id').count()\n",
    "ratings_per_user = ratings_per_user.rename(columns={'movie_id' : 'Total'})\n",
    "ratings_per_user.sort_values('Total',ascending=False).head()"
   ]
  },
  {
   "cell_type": "code",
   "execution_count": 20,
   "metadata": {
    "collapsed": false,
    "deletable": true,
    "editable": true
   },
   "outputs": [
    {
     "data": {
      "text/html": [
       "<div>\n",
       "<table border=\"1\" class=\"dataframe\">\n",
       "  <thead>\n",
       "    <tr style=\"text-align: right;\">\n",
       "      <th></th>\n",
       "      <th>sex</th>\n",
       "      <th>Total</th>\n",
       "    </tr>\n",
       "  </thead>\n",
       "  <tbody>\n",
       "    <tr>\n",
       "      <th>0</th>\n",
       "      <td>F</td>\n",
       "      <td>1709</td>\n",
       "    </tr>\n",
       "    <tr>\n",
       "      <th>1</th>\n",
       "      <td>M</td>\n",
       "      <td>4331</td>\n",
       "    </tr>\n",
       "  </tbody>\n",
       "</table>\n",
       "</div>"
      ],
      "text/plain": [
       "  sex  Total\n",
       "0   F   1709\n",
       "1   M   4331"
      ]
     },
     "execution_count": 20,
     "metadata": {},
     "output_type": "execute_result"
    }
   ],
   "source": [
    "# users per gender \n",
    "users_by_gender = users.groupby('sex', as_index = False)['user_id'].count()\n",
    "users_by_gender.rename(columns={'user_id' : 'Total'}).head()"
   ]
  },
  {
   "cell_type": "code",
   "execution_count": 21,
   "metadata": {
    "collapsed": false,
    "deletable": true,
    "editable": true
   },
   "outputs": [
    {
     "data": {
      "text/html": [
       "<div>\n",
       "<table border=\"1\" class=\"dataframe\">\n",
       "  <thead>\n",
       "    <tr style=\"text-align: right;\">\n",
       "      <th></th>\n",
       "      <th>occupation</th>\n",
       "      <th>Total</th>\n",
       "    </tr>\n",
       "  </thead>\n",
       "  <tbody>\n",
       "    <tr>\n",
       "      <th>4</th>\n",
       "      <td>4</td>\n",
       "      <td>759</td>\n",
       "    </tr>\n",
       "    <tr>\n",
       "      <th>0</th>\n",
       "      <td>0</td>\n",
       "      <td>711</td>\n",
       "    </tr>\n",
       "    <tr>\n",
       "      <th>7</th>\n",
       "      <td>7</td>\n",
       "      <td>679</td>\n",
       "    </tr>\n",
       "    <tr>\n",
       "      <th>1</th>\n",
       "      <td>1</td>\n",
       "      <td>528</td>\n",
       "    </tr>\n",
       "    <tr>\n",
       "      <th>17</th>\n",
       "      <td>17</td>\n",
       "      <td>502</td>\n",
       "    </tr>\n",
       "  </tbody>\n",
       "</table>\n",
       "</div>"
      ],
      "text/plain": [
       "    occupation  Total\n",
       "4            4    759\n",
       "0            0    711\n",
       "7            7    679\n",
       "1            1    528\n",
       "17          17    502"
      ]
     },
     "execution_count": 21,
     "metadata": {},
     "output_type": "execute_result"
    }
   ],
   "source": [
    "# users per occupation (top 5)\n",
    "users_by_occ =users.groupby('occupation', as_index = False)['user_id'].count()\n",
    "users_by_occ = users_by_occ.rename(columns={'user_id' : 'Total'})\n",
    "users_by_occ.sort_values('Total',ascending=False).head()"
   ]
  },
  {
   "cell_type": "code",
   "execution_count": 22,
   "metadata": {
    "collapsed": false,
    "deletable": true,
    "editable": true
   },
   "outputs": [
    {
     "data": {
      "text/html": [
       "<div>\n",
       "<table border=\"1\" class=\"dataframe\">\n",
       "  <thead>\n",
       "    <tr style=\"text-align: right;\">\n",
       "      <th></th>\n",
       "      <th>genre</th>\n",
       "      <th>Total ratings</th>\n",
       "    </tr>\n",
       "  </thead>\n",
       "  <tbody>\n",
       "    <tr>\n",
       "      <th>176</th>\n",
       "      <td>Comedy</td>\n",
       "      <td>116883</td>\n",
       "    </tr>\n",
       "    <tr>\n",
       "      <th>239</th>\n",
       "      <td>Drama</td>\n",
       "      <td>111423</td>\n",
       "    </tr>\n",
       "    <tr>\n",
       "      <th>207</th>\n",
       "      <td>Comedy|Romance</td>\n",
       "      <td>42712</td>\n",
       "    </tr>\n",
       "    <tr>\n",
       "      <th>185</th>\n",
       "      <td>Comedy|Drama</td>\n",
       "      <td>42245</td>\n",
       "    </tr>\n",
       "    <tr>\n",
       "      <th>252</th>\n",
       "      <td>Drama|Romance</td>\n",
       "      <td>29170</td>\n",
       "    </tr>\n",
       "    <tr>\n",
       "      <th>92</th>\n",
       "      <td>Action|Thriller</td>\n",
       "      <td>26759</td>\n",
       "    </tr>\n",
       "    <tr>\n",
       "      <th>274</th>\n",
       "      <td>Horror</td>\n",
       "      <td>22563</td>\n",
       "    </tr>\n",
       "    <tr>\n",
       "      <th>260</th>\n",
       "      <td>Drama|Thriller</td>\n",
       "      <td>18248</td>\n",
       "    </tr>\n",
       "    <tr>\n",
       "      <th>298</th>\n",
       "      <td>Thriller</td>\n",
       "      <td>17851</td>\n",
       "    </tr>\n",
       "    <tr>\n",
       "      <th>33</th>\n",
       "      <td>Action|Adventure|Sci-Fi</td>\n",
       "      <td>17783</td>\n",
       "    </tr>\n",
       "  </tbody>\n",
       "</table>\n",
       "</div>"
      ],
      "text/plain": [
       "                       genre  Total ratings\n",
       "176                   Comedy         116883\n",
       "239                    Drama         111423\n",
       "207           Comedy|Romance          42712\n",
       "185             Comedy|Drama          42245\n",
       "252            Drama|Romance          29170\n",
       "92           Action|Thriller          26759\n",
       "274                   Horror          22563\n",
       "260           Drama|Thriller          18248\n",
       "298                 Thriller          17851\n",
       "33   Action|Adventure|Sci-Fi          17783"
      ]
     },
     "execution_count": 22,
     "metadata": {},
     "output_type": "execute_result"
    }
   ],
   "source": [
    "# most popular genres (with most ratings)\n",
    "most_popular_genre = movie_ratings.groupby('genre', as_index = False)['user_id'].count()\n",
    "most_popular_genre = most_popular_genre.rename(columns={'user_id' : 'Total ratings'})\n",
    "most_popular_genre.sort_values('Total ratings',ascending=False).head(10)"
   ]
  },
  {
   "cell_type": "code",
   "execution_count": 23,
   "metadata": {
    "collapsed": false,
    "deletable": true,
    "editable": true
   },
   "outputs": [
    {
     "data": {
      "text/html": [
       "<div>\n",
       "<table border=\"1\" class=\"dataframe\">\n",
       "  <thead>\n",
       "    <tr style=\"text-align: right;\">\n",
       "      <th></th>\n",
       "      <th>genre</th>\n",
       "      <th>Total ratings</th>\n",
       "    </tr>\n",
       "  </thead>\n",
       "  <tbody>\n",
       "    <tr>\n",
       "      <th>239</th>\n",
       "      <td>Drama</td>\n",
       "      <td>843</td>\n",
       "    </tr>\n",
       "    <tr>\n",
       "      <th>176</th>\n",
       "      <td>Comedy</td>\n",
       "      <td>521</td>\n",
       "    </tr>\n",
       "    <tr>\n",
       "      <th>274</th>\n",
       "      <td>Horror</td>\n",
       "      <td>178</td>\n",
       "    </tr>\n",
       "    <tr>\n",
       "      <th>185</th>\n",
       "      <td>Comedy|Drama</td>\n",
       "      <td>162</td>\n",
       "    </tr>\n",
       "    <tr>\n",
       "      <th>207</th>\n",
       "      <td>Comedy|Romance</td>\n",
       "      <td>142</td>\n",
       "    </tr>\n",
       "    <tr>\n",
       "      <th>252</th>\n",
       "      <td>Drama|Romance</td>\n",
       "      <td>134</td>\n",
       "    </tr>\n",
       "    <tr>\n",
       "      <th>235</th>\n",
       "      <td>Documentary</td>\n",
       "      <td>116</td>\n",
       "    </tr>\n",
       "    <tr>\n",
       "      <th>298</th>\n",
       "      <td>Thriller</td>\n",
       "      <td>101</td>\n",
       "    </tr>\n",
       "    <tr>\n",
       "      <th>0</th>\n",
       "      <td>Action</td>\n",
       "      <td>65</td>\n",
       "    </tr>\n",
       "    <tr>\n",
       "      <th>260</th>\n",
       "      <td>Drama|Thriller</td>\n",
       "      <td>63</td>\n",
       "    </tr>\n",
       "  </tbody>\n",
       "</table>\n",
       "</div>"
      ],
      "text/plain": [
       "              genre  Total ratings\n",
       "239           Drama            843\n",
       "176          Comedy            521\n",
       "274          Horror            178\n",
       "185    Comedy|Drama            162\n",
       "207  Comedy|Romance            142\n",
       "252   Drama|Romance            134\n",
       "235     Documentary            116\n",
       "298        Thriller            101\n",
       "0            Action             65\n",
       "260  Drama|Thriller             63"
      ]
     },
     "execution_count": 23,
     "metadata": {},
     "output_type": "execute_result"
    }
   ],
   "source": [
    "# movies distribution per genres\n",
    "movies_genre = movies.groupby('genre', as_index = False)['movie_id'].count()\n",
    "movies_genre = movies_genre.rename(columns={'movie_id' : 'Total ratings'})\n",
    "movies_genre.sort_values('Total ratings',ascending=False).head(10)"
   ]
  },
  {
   "cell_type": "markdown",
   "metadata": {
    "deletable": true,
    "editable": true
   },
   "source": [
    "<h3> Visualizations </h3>"
   ]
  },
  {
   "cell_type": "code",
   "execution_count": 24,
   "metadata": {
    "collapsed": false,
    "deletable": true,
    "editable": true
   },
   "outputs": [],
   "source": [
    "# import libraries\n",
    "import matplotlib.pyplot as plt\n",
    "import matplotlib.cm as cm\n",
    "import seaborn as sns\n",
    "sns.set_style('white')\n",
    "%matplotlib inline\n",
    "\n",
    "# select plot style\n",
    "plt.style.use('ggplot')"
   ]
  },
  {
   "cell_type": "code",
   "execution_count": 25,
   "metadata": {
    "collapsed": false,
    "deletable": true,
    "editable": true
   },
   "outputs": [
    {
     "data": {
      "text/plain": [
       "<matplotlib.text.Text at 0x1287a6050>"
      ]
     },
     "execution_count": 25,
     "metadata": {},
     "output_type": "execute_result"
    },
    {
     "data": {
      "image/png": "[encoded data removed]",
      "text/plain": [
       "<matplotlib.figure.Figure at 0x1113aac10>"
      ]
     },
     "metadata": {},
     "output_type": "display_data"
    }
   ],
   "source": [
    "# the graph indicates that most of the movies have less than 40000 ratings\n",
    "plt.figure(figsize=(12,6))\n",
    "movies_ext[movies_ext['ratingCount'] > 1]['ratingCount'].hist(bins=100)\n",
    "plt.title('Number of ratings per movie')\n",
    "plt.xlabel('Number of ratings')"
   ]
  },
  {
   "cell_type": "code",
   "execution_count": 26,
   "metadata": {
    "collapsed": false,
    "deletable": true,
    "editable": true
   },
   "outputs": [
    {
     "name": "stderr",
     "output_type": "stream",
     "text": [
      "/Users/abhinavkashyap/anaconda2/envs/gl-env/lib/python2.7/site-packages/seaborn/categorical.py:3666: UserWarning: The `factorplot` function has been renamed to `catplot`. The original name will be removed in a future release. Please update your code. Note that the default `kind` in `factorplot` (`'point'`) has changed `'strip'` in `catplot`.\n",
      "  warnings.warn(msg)\n"
     ]
    },
    {
     "data": {
      "text/plain": [
       "<seaborn.axisgrid.FacetGrid at 0x12af99a10>"
      ]
     },
     "execution_count": 26,
     "metadata": {},
     "output_type": "execute_result"
    },
    {
     "data": {
      "image/png": "[encoded data removed]",
      "text/plain": [
       "<matplotlib.figure.Figure at 0x103f0ed50>"
      ]
     },
     "metadata": {},
     "output_type": "display_data"
    }
   ],
   "source": [
    "# most of the viewers are students and managerial executuves\n",
    "sns.factorplot(\"occupation\", data=users, aspect=3, kind=\"count\", color=\"b\").set_xticklabels(rotation=90)"
   ]
  },
  {
   "cell_type": "code",
   "execution_count": 27,
   "metadata": {
    "collapsed": false,
    "deletable": true,
    "editable": true
   },
   "outputs": [
    {
     "data": {
      "text/plain": [
       "<seaborn.axisgrid.JointGrid at 0x12afa11d0>"
      ]
     },
     "execution_count": 27,
     "metadata": {},
     "output_type": "execute_result"
    },
    {
     "data": {
      "image/png": "[encoded data removed]",
      "text/plain": [
       "<matplotlib.figure.Figure at 0x11136d390>"
      ]
     },
     "metadata": {},
     "output_type": "display_data"
    }
   ],
   "source": [
    "# the movies with the most ratings tend to have better rankings\n",
    "sns.jointplot(x='ratingMean',y='ratingCount',data= movies_ext,alpha=0.5)"
   ]
  },
  {
   "cell_type": "code",
   "execution_count": 28,
   "metadata": {
    "collapsed": false,
    "deletable": true,
    "editable": true
   },
   "outputs": [
    {
     "data": {
      "image/png": "[encoded data removed]",
      "text/plain": [
       "<matplotlib.figure.Figure at 0x12b5df7d0>"
      ]
     },
     "metadata": {},
     "output_type": "display_data"
    }
   ],
   "source": [
    "# most users have less than 1000 ratings\n",
    "plt.figure(figsize=(12,8))\n",
    "ratings_per_user['Total'].hist(bins=100, edgecolor='black', log=True)\n",
    "plt.title('Ratings per user')\n",
    "plt.xlabel('Number of ratings given')\n",
    "plt.ylabel('Number of users')\n",
    "plt.xlim(0,)\n",
    "plt.xticks(np.arange(0,4000,1000))\n",
    "plt.show()"
   ]
  },
  {
   "cell_type": "code",
   "execution_count": 29,
   "metadata": {
    "collapsed": false,
    "deletable": true,
    "editable": true
   },
   "outputs": [
    {
     "data": {
      "image/png": "[encoded data removed]",
      "text/plain": [
       "<matplotlib.figure.Figure at 0x1203cd5d0>"
      ]
     },
     "metadata": {},
     "output_type": "display_data"
    }
   ],
   "source": [
    "#Distribution of users age\n",
    "users.age.plot.hist(bins=50)\n",
    "plt.title(\"Distribution of users' ages\")\n",
    "plt.ylabel('count of users')\n",
    "plt.xlabel('age');"
   ]
  },
  {
   "cell_type": "code",
   "execution_count": 30,
   "metadata": {
    "collapsed": false
   },
   "outputs": [
    {
     "data": {
      "text/plain": [
       "<matplotlib.axes._subplots.AxesSubplot at 0x12065fe10>"
      ]
     },
     "execution_count": 30,
     "metadata": {},
     "output_type": "execute_result"
    },
    {
     "data": {
      "image/png": "[encoded data removed]",
      "text/plain": [
       "<matplotlib.figure.Figure at 0x120363a50>"
      ]
     },
     "metadata": {},
     "output_type": "display_data"
    }
   ],
   "source": [
    "sns.boxplot(x = 'occupation',y ='age',  data = users)"
   ]
  },
  {
   "cell_type": "code",
   "execution_count": 31,
   "metadata": {
    "collapsed": false,
    "deletable": true,
    "editable": true
   },
   "outputs": [
    {
     "data": {
      "text/html": [
       "<div>\n",
       "<table border=\"1\" class=\"dataframe\">\n",
       "  <thead>\n",
       "    <tr style=\"text-align: right;\">\n",
       "      <th></th>\n",
       "      <th>Action</th>\n",
       "      <th>Adventure</th>\n",
       "      <th>Animation</th>\n",
       "      <th>Children's</th>\n",
       "      <th>Comedy</th>\n",
       "      <th>Crime</th>\n",
       "      <th>Documentary</th>\n",
       "      <th>Drama</th>\n",
       "      <th>Fantasy</th>\n",
       "      <th>Film-Noir</th>\n",
       "      <th>Horror</th>\n",
       "      <th>Musical</th>\n",
       "      <th>Mystery</th>\n",
       "      <th>Romance</th>\n",
       "      <th>Sci-Fi</th>\n",
       "      <th>Thriller</th>\n",
       "      <th>War</th>\n",
       "      <th>Western</th>\n",
       "    </tr>\n",
       "  </thead>\n",
       "  <tbody>\n",
       "    <tr>\n",
       "      <th>0</th>\n",
       "      <td>0</td>\n",
       "      <td>0</td>\n",
       "      <td>1</td>\n",
       "      <td>1</td>\n",
       "      <td>1</td>\n",
       "      <td>0</td>\n",
       "      <td>0</td>\n",
       "      <td>0</td>\n",
       "      <td>0</td>\n",
       "      <td>0</td>\n",
       "      <td>0</td>\n",
       "      <td>0</td>\n",
       "      <td>0</td>\n",
       "      <td>0</td>\n",
       "      <td>0</td>\n",
       "      <td>0</td>\n",
       "      <td>0</td>\n",
       "      <td>0</td>\n",
       "    </tr>\n",
       "    <tr>\n",
       "      <th>1</th>\n",
       "      <td>0</td>\n",
       "      <td>1</td>\n",
       "      <td>0</td>\n",
       "      <td>1</td>\n",
       "      <td>0</td>\n",
       "      <td>0</td>\n",
       "      <td>0</td>\n",
       "      <td>0</td>\n",
       "      <td>1</td>\n",
       "      <td>0</td>\n",
       "      <td>0</td>\n",
       "      <td>0</td>\n",
       "      <td>0</td>\n",
       "      <td>0</td>\n",
       "      <td>0</td>\n",
       "      <td>0</td>\n",
       "      <td>0</td>\n",
       "      <td>0</td>\n",
       "    </tr>\n",
       "    <tr>\n",
       "      <th>2</th>\n",
       "      <td>0</td>\n",
       "      <td>0</td>\n",
       "      <td>0</td>\n",
       "      <td>0</td>\n",
       "      <td>1</td>\n",
       "      <td>0</td>\n",
       "      <td>0</td>\n",
       "      <td>0</td>\n",
       "      <td>0</td>\n",
       "      <td>0</td>\n",
       "      <td>0</td>\n",
       "      <td>0</td>\n",
       "      <td>0</td>\n",
       "      <td>1</td>\n",
       "      <td>0</td>\n",
       "      <td>0</td>\n",
       "      <td>0</td>\n",
       "      <td>0</td>\n",
       "    </tr>\n",
       "    <tr>\n",
       "      <th>3</th>\n",
       "      <td>0</td>\n",
       "      <td>0</td>\n",
       "      <td>0</td>\n",
       "      <td>0</td>\n",
       "      <td>1</td>\n",
       "      <td>0</td>\n",
       "      <td>0</td>\n",
       "      <td>1</td>\n",
       "      <td>0</td>\n",
       "      <td>0</td>\n",
       "      <td>0</td>\n",
       "      <td>0</td>\n",
       "      <td>0</td>\n",
       "      <td>0</td>\n",
       "      <td>0</td>\n",
       "      <td>0</td>\n",
       "      <td>0</td>\n",
       "      <td>0</td>\n",
       "    </tr>\n",
       "    <tr>\n",
       "      <th>4</th>\n",
       "      <td>0</td>\n",
       "      <td>0</td>\n",
       "      <td>0</td>\n",
       "      <td>0</td>\n",
       "      <td>1</td>\n",
       "      <td>0</td>\n",
       "      <td>0</td>\n",
       "      <td>0</td>\n",
       "      <td>0</td>\n",
       "      <td>0</td>\n",
       "      <td>0</td>\n",
       "      <td>0</td>\n",
       "      <td>0</td>\n",
       "      <td>0</td>\n",
       "      <td>0</td>\n",
       "      <td>0</td>\n",
       "      <td>0</td>\n",
       "      <td>0</td>\n",
       "    </tr>\n",
       "  </tbody>\n",
       "</table>\n",
       "</div>"
      ],
      "text/plain": [
       "   Action  Adventure  Animation  Children's  Comedy  Crime  Documentary  \\\n",
       "0       0          0          1           1       1      0            0   \n",
       "1       0          1          0           1       0      0            0   \n",
       "2       0          0          0           0       1      0            0   \n",
       "3       0          0          0           0       1      0            0   \n",
       "4       0          0          0           0       1      0            0   \n",
       "\n",
       "   Drama  Fantasy  Film-Noir  Horror  Musical  Mystery  Romance  Sci-Fi  \\\n",
       "0      0        0          0       0        0        0        0       0   \n",
       "1      0        1          0       0        0        0        0       0   \n",
       "2      0        0          0       0        0        0        1       0   \n",
       "3      1        0          0       0        0        0        0       0   \n",
       "4      0        0          0       0        0        0        0       0   \n",
       "\n",
       "   Thriller  War  Western  \n",
       "0         0    0        0  \n",
       "1         0    0        0  \n",
       "2         0    0        0  \n",
       "3         0    0        0  \n",
       "4         0    0        0  "
      ]
     },
     "execution_count": 31,
     "metadata": {},
     "output_type": "execute_result"
    }
   ],
   "source": [
    "#Segregating the genre names into a wide dataframe represented by 1's and 0's\n",
    "movies_categorical= movies.genre.str.get_dummies('|')\n",
    "movies_categorical.head()"
   ]
  },
  {
   "cell_type": "code",
   "execution_count": 32,
   "metadata": {
    "collapsed": false,
    "deletable": true,
    "editable": true
   },
   "outputs": [
    {
     "data": {
      "text/html": [
       "<div>\n",
       "<table border=\"1\" class=\"dataframe\">\n",
       "  <thead>\n",
       "    <tr style=\"text-align: right;\">\n",
       "      <th></th>\n",
       "      <th>movie_id</th>\n",
       "      <th>title</th>\n",
       "      <th>genre</th>\n",
       "      <th>Action</th>\n",
       "      <th>Adventure</th>\n",
       "      <th>Animation</th>\n",
       "      <th>Children's</th>\n",
       "      <th>Comedy</th>\n",
       "      <th>Crime</th>\n",
       "      <th>Documentary</th>\n",
       "      <th>...</th>\n",
       "      <th>Fantasy</th>\n",
       "      <th>Film-Noir</th>\n",
       "      <th>Horror</th>\n",
       "      <th>Musical</th>\n",
       "      <th>Mystery</th>\n",
       "      <th>Romance</th>\n",
       "      <th>Sci-Fi</th>\n",
       "      <th>Thriller</th>\n",
       "      <th>War</th>\n",
       "      <th>Western</th>\n",
       "    </tr>\n",
       "  </thead>\n",
       "  <tbody>\n",
       "    <tr>\n",
       "      <th>0</th>\n",
       "      <td>1</td>\n",
       "      <td>Toy Story (1995)</td>\n",
       "      <td>Animation|Children's|Comedy</td>\n",
       "      <td>0</td>\n",
       "      <td>0</td>\n",
       "      <td>1</td>\n",
       "      <td>1</td>\n",
       "      <td>1</td>\n",
       "      <td>0</td>\n",
       "      <td>0</td>\n",
       "      <td>...</td>\n",
       "      <td>0</td>\n",
       "      <td>0</td>\n",
       "      <td>0</td>\n",
       "      <td>0</td>\n",
       "      <td>0</td>\n",
       "      <td>0</td>\n",
       "      <td>0</td>\n",
       "      <td>0</td>\n",
       "      <td>0</td>\n",
       "      <td>0</td>\n",
       "    </tr>\n",
       "    <tr>\n",
       "      <th>1</th>\n",
       "      <td>2</td>\n",
       "      <td>Jumanji (1995)</td>\n",
       "      <td>Adventure|Children's|Fantasy</td>\n",
       "      <td>0</td>\n",
       "      <td>1</td>\n",
       "      <td>0</td>\n",
       "      <td>1</td>\n",
       "      <td>0</td>\n",
       "      <td>0</td>\n",
       "      <td>0</td>\n",
       "      <td>...</td>\n",
       "      <td>1</td>\n",
       "      <td>0</td>\n",
       "      <td>0</td>\n",
       "      <td>0</td>\n",
       "      <td>0</td>\n",
       "      <td>0</td>\n",
       "      <td>0</td>\n",
       "      <td>0</td>\n",
       "      <td>0</td>\n",
       "      <td>0</td>\n",
       "    </tr>\n",
       "    <tr>\n",
       "      <th>2</th>\n",
       "      <td>3</td>\n",
       "      <td>Grumpier Old Men (1995)</td>\n",
       "      <td>Comedy|Romance</td>\n",
       "      <td>0</td>\n",
       "      <td>0</td>\n",
       "      <td>0</td>\n",
       "      <td>0</td>\n",
       "      <td>1</td>\n",
       "      <td>0</td>\n",
       "      <td>0</td>\n",
       "      <td>...</td>\n",
       "      <td>0</td>\n",
       "      <td>0</td>\n",
       "      <td>0</td>\n",
       "      <td>0</td>\n",
       "      <td>0</td>\n",
       "      <td>1</td>\n",
       "      <td>0</td>\n",
       "      <td>0</td>\n",
       "      <td>0</td>\n",
       "      <td>0</td>\n",
       "    </tr>\n",
       "    <tr>\n",
       "      <th>3</th>\n",
       "      <td>4</td>\n",
       "      <td>Waiting to Exhale (1995)</td>\n",
       "      <td>Comedy|Drama</td>\n",
       "      <td>0</td>\n",
       "      <td>0</td>\n",
       "      <td>0</td>\n",
       "      <td>0</td>\n",
       "      <td>1</td>\n",
       "      <td>0</td>\n",
       "      <td>0</td>\n",
       "      <td>...</td>\n",
       "      <td>0</td>\n",
       "      <td>0</td>\n",
       "      <td>0</td>\n",
       "      <td>0</td>\n",
       "      <td>0</td>\n",
       "      <td>0</td>\n",
       "      <td>0</td>\n",
       "      <td>0</td>\n",
       "      <td>0</td>\n",
       "      <td>0</td>\n",
       "    </tr>\n",
       "    <tr>\n",
       "      <th>4</th>\n",
       "      <td>5</td>\n",
       "      <td>Father of the Bride Part II (1995)</td>\n",
       "      <td>Comedy</td>\n",
       "      <td>0</td>\n",
       "      <td>0</td>\n",
       "      <td>0</td>\n",
       "      <td>0</td>\n",
       "      <td>1</td>\n",
       "      <td>0</td>\n",
       "      <td>0</td>\n",
       "      <td>...</td>\n",
       "      <td>0</td>\n",
       "      <td>0</td>\n",
       "      <td>0</td>\n",
       "      <td>0</td>\n",
       "      <td>0</td>\n",
       "      <td>0</td>\n",
       "      <td>0</td>\n",
       "      <td>0</td>\n",
       "      <td>0</td>\n",
       "      <td>0</td>\n",
       "    </tr>\n",
       "  </tbody>\n",
       "</table>\n",
       "<p>5 rows × 21 columns</p>\n",
       "</div>"
      ],
      "text/plain": [
       "   movie_id                               title                         genre  \\\n",
       "0         1                    Toy Story (1995)   Animation|Children's|Comedy   \n",
       "1         2                      Jumanji (1995)  Adventure|Children's|Fantasy   \n",
       "2         3             Grumpier Old Men (1995)                Comedy|Romance   \n",
       "3         4            Waiting to Exhale (1995)                  Comedy|Drama   \n",
       "4         5  Father of the Bride Part II (1995)                        Comedy   \n",
       "\n",
       "   Action  Adventure  Animation  Children's  Comedy  Crime  Documentary  \\\n",
       "0       0          0          1           1       1      0            0   \n",
       "1       0          1          0           1       0      0            0   \n",
       "2       0          0          0           0       1      0            0   \n",
       "3       0          0          0           0       1      0            0   \n",
       "4       0          0          0           0       1      0            0   \n",
       "\n",
       "    ...     Fantasy  Film-Noir  Horror  Musical  Mystery  Romance  Sci-Fi  \\\n",
       "0   ...           0          0       0        0        0        0       0   \n",
       "1   ...           1          0       0        0        0        0       0   \n",
       "2   ...           0          0       0        0        0        1       0   \n",
       "3   ...           0          0       0        0        0        0       0   \n",
       "4   ...           0          0       0        0        0        0       0   \n",
       "\n",
       "   Thriller  War  Western  \n",
       "0         0    0        0  \n",
       "1         0    0        0  \n",
       "2         0    0        0  \n",
       "3         0    0        0  \n",
       "4         0    0        0  \n",
       "\n",
       "[5 rows x 21 columns]"
      ]
     },
     "execution_count": 32,
     "metadata": {},
     "output_type": "execute_result"
    }
   ],
   "source": [
    "movies_combined=pd.merge(movies,movies_categorical,left_index=True,right_index=True)\n",
    "#movies_combined.to_csv('movies_comb.csv',index=False)\n",
    "movies_combined.head()"
   ]
  },
  {
   "cell_type": "markdown",
   "metadata": {},
   "source": [
    "<br><h1> Building Recommendation Engines - Different models <h1>"
   ]
  },
  {
   "cell_type": "markdown",
   "metadata": {
    "deletable": true,
    "editable": true
   },
   "source": [
    "<h3> Finding similarities between movies </h3>"
   ]
  },
  {
   "cell_type": "markdown",
   "metadata": {
    "deletable": true,
    "editable": true
   },
   "source": [
    "We will use the correlation between the ratings of a movie as the similarity metric. To find the correlation between the ratings of the movie, we need to create a matrix where each column is a movie name and each row contains the rating assigned by a specific user to that movie. Bear in mind that this matrix will have a lot of null values since every movie is not rated by every user."
   ]
  },
  {
   "cell_type": "code",
   "execution_count": 33,
   "metadata": {
    "collapsed": false,
    "deletable": true,
    "editable": true
   },
   "outputs": [],
   "source": [
    "ratings_mean_count = pd.DataFrame(movie_ratings.groupby('title')['rating'].mean()) "
   ]
  },
  {
   "cell_type": "code",
   "execution_count": 34,
   "metadata": {
    "collapsed": true,
    "deletable": true,
    "editable": true
   },
   "outputs": [],
   "source": [
    "ratings_mean_count['rating_counts'] = pd.DataFrame(movie_ratings.groupby('title')['rating'].count()) "
   ]
  },
  {
   "cell_type": "code",
   "execution_count": 35,
   "metadata": {
    "collapsed": false,
    "deletable": true,
    "editable": true
   },
   "outputs": [
    {
     "data": {
      "text/html": [
       "<div>\n",
       "<table border=\"1\" class=\"dataframe\">\n",
       "  <thead>\n",
       "    <tr style=\"text-align: right;\">\n",
       "      <th></th>\n",
       "      <th>rating</th>\n",
       "      <th>rating_counts</th>\n",
       "    </tr>\n",
       "    <tr>\n",
       "      <th>title</th>\n",
       "      <th></th>\n",
       "      <th></th>\n",
       "    </tr>\n",
       "  </thead>\n",
       "  <tbody>\n",
       "    <tr>\n",
       "      <th>$1,000,000 Duck (1971)</th>\n",
       "      <td>3.027027</td>\n",
       "      <td>37</td>\n",
       "    </tr>\n",
       "    <tr>\n",
       "      <th>'Night Mother (1986)</th>\n",
       "      <td>3.371429</td>\n",
       "      <td>70</td>\n",
       "    </tr>\n",
       "    <tr>\n",
       "      <th>'Til There Was You (1997)</th>\n",
       "      <td>2.692308</td>\n",
       "      <td>52</td>\n",
       "    </tr>\n",
       "    <tr>\n",
       "      <th>'burbs, The (1989)</th>\n",
       "      <td>2.910891</td>\n",
       "      <td>303</td>\n",
       "    </tr>\n",
       "    <tr>\n",
       "      <th>...And Justice for All (1979)</th>\n",
       "      <td>3.713568</td>\n",
       "      <td>199</td>\n",
       "    </tr>\n",
       "  </tbody>\n",
       "</table>\n",
       "</div>"
      ],
      "text/plain": [
       "                                 rating  rating_counts\n",
       "title                                                 \n",
       "$1,000,000 Duck (1971)         3.027027             37\n",
       "'Night Mother (1986)           3.371429             70\n",
       "'Til There Was You (1997)      2.692308             52\n",
       "'burbs, The (1989)             2.910891            303\n",
       "...And Justice for All (1979)  3.713568            199"
      ]
     },
     "execution_count": 35,
     "metadata": {},
     "output_type": "execute_result"
    }
   ],
   "source": [
    "ratings_mean_count.head()"
   ]
  },
  {
   "cell_type": "code",
   "execution_count": 36,
   "metadata": {
    "collapsed": false,
    "deletable": true,
    "editable": true
   },
   "outputs": [
    {
     "data": {
      "text/html": [
       "<div>\n",
       "<table border=\"1\" class=\"dataframe\">\n",
       "  <thead>\n",
       "    <tr style=\"text-align: right;\">\n",
       "      <th>title</th>\n",
       "      <th>$1,000,000 Duck (1971)</th>\n",
       "      <th>'Night Mother (1986)</th>\n",
       "      <th>'Til There Was You (1997)</th>\n",
       "      <th>'burbs, The (1989)</th>\n",
       "      <th>...And Justice for All (1979)</th>\n",
       "      <th>1-900 (1994)</th>\n",
       "      <th>10 Things I Hate About You (1999)</th>\n",
       "      <th>101 Dalmatians (1961)</th>\n",
       "      <th>101 Dalmatians (1996)</th>\n",
       "      <th>12 Angry Men (1957)</th>\n",
       "      <th>...</th>\n",
       "      <th>Young Poisoner's Handbook, The (1995)</th>\n",
       "      <th>Young Sherlock Holmes (1985)</th>\n",
       "      <th>Young and Innocent (1937)</th>\n",
       "      <th>Your Friends and Neighbors (1998)</th>\n",
       "      <th>Zachariah (1971)</th>\n",
       "      <th>Zed &amp; Two Noughts, A (1985)</th>\n",
       "      <th>Zero Effect (1998)</th>\n",
       "      <th>Zero Kelvin (Kj�rlighetens kj�tere) (1995)</th>\n",
       "      <th>Zeus and Roxanne (1997)</th>\n",
       "      <th>eXistenZ (1999)</th>\n",
       "    </tr>\n",
       "    <tr>\n",
       "      <th>user_id</th>\n",
       "      <th></th>\n",
       "      <th></th>\n",
       "      <th></th>\n",
       "      <th></th>\n",
       "      <th></th>\n",
       "      <th></th>\n",
       "      <th></th>\n",
       "      <th></th>\n",
       "      <th></th>\n",
       "      <th></th>\n",
       "      <th></th>\n",
       "      <th></th>\n",
       "      <th></th>\n",
       "      <th></th>\n",
       "      <th></th>\n",
       "      <th></th>\n",
       "      <th></th>\n",
       "      <th></th>\n",
       "      <th></th>\n",
       "      <th></th>\n",
       "      <th></th>\n",
       "    </tr>\n",
       "  </thead>\n",
       "  <tbody>\n",
       "    <tr>\n",
       "      <th>1</th>\n",
       "      <td>NaN</td>\n",
       "      <td>NaN</td>\n",
       "      <td>NaN</td>\n",
       "      <td>NaN</td>\n",
       "      <td>NaN</td>\n",
       "      <td>NaN</td>\n",
       "      <td>NaN</td>\n",
       "      <td>NaN</td>\n",
       "      <td>NaN</td>\n",
       "      <td>NaN</td>\n",
       "      <td>...</td>\n",
       "      <td>NaN</td>\n",
       "      <td>NaN</td>\n",
       "      <td>NaN</td>\n",
       "      <td>NaN</td>\n",
       "      <td>NaN</td>\n",
       "      <td>NaN</td>\n",
       "      <td>NaN</td>\n",
       "      <td>NaN</td>\n",
       "      <td>NaN</td>\n",
       "      <td>NaN</td>\n",
       "    </tr>\n",
       "    <tr>\n",
       "      <th>2</th>\n",
       "      <td>NaN</td>\n",
       "      <td>NaN</td>\n",
       "      <td>NaN</td>\n",
       "      <td>NaN</td>\n",
       "      <td>NaN</td>\n",
       "      <td>NaN</td>\n",
       "      <td>NaN</td>\n",
       "      <td>NaN</td>\n",
       "      <td>NaN</td>\n",
       "      <td>NaN</td>\n",
       "      <td>...</td>\n",
       "      <td>NaN</td>\n",
       "      <td>NaN</td>\n",
       "      <td>NaN</td>\n",
       "      <td>NaN</td>\n",
       "      <td>NaN</td>\n",
       "      <td>NaN</td>\n",
       "      <td>NaN</td>\n",
       "      <td>NaN</td>\n",
       "      <td>NaN</td>\n",
       "      <td>NaN</td>\n",
       "    </tr>\n",
       "    <tr>\n",
       "      <th>3</th>\n",
       "      <td>NaN</td>\n",
       "      <td>NaN</td>\n",
       "      <td>NaN</td>\n",
       "      <td>NaN</td>\n",
       "      <td>NaN</td>\n",
       "      <td>NaN</td>\n",
       "      <td>NaN</td>\n",
       "      <td>NaN</td>\n",
       "      <td>NaN</td>\n",
       "      <td>NaN</td>\n",
       "      <td>...</td>\n",
       "      <td>NaN</td>\n",
       "      <td>NaN</td>\n",
       "      <td>NaN</td>\n",
       "      <td>NaN</td>\n",
       "      <td>NaN</td>\n",
       "      <td>NaN</td>\n",
       "      <td>NaN</td>\n",
       "      <td>NaN</td>\n",
       "      <td>NaN</td>\n",
       "      <td>NaN</td>\n",
       "    </tr>\n",
       "    <tr>\n",
       "      <th>4</th>\n",
       "      <td>NaN</td>\n",
       "      <td>NaN</td>\n",
       "      <td>NaN</td>\n",
       "      <td>NaN</td>\n",
       "      <td>NaN</td>\n",
       "      <td>NaN</td>\n",
       "      <td>NaN</td>\n",
       "      <td>NaN</td>\n",
       "      <td>NaN</td>\n",
       "      <td>NaN</td>\n",
       "      <td>...</td>\n",
       "      <td>NaN</td>\n",
       "      <td>NaN</td>\n",
       "      <td>NaN</td>\n",
       "      <td>NaN</td>\n",
       "      <td>NaN</td>\n",
       "      <td>NaN</td>\n",
       "      <td>NaN</td>\n",
       "      <td>NaN</td>\n",
       "      <td>NaN</td>\n",
       "      <td>NaN</td>\n",
       "    </tr>\n",
       "    <tr>\n",
       "      <th>5</th>\n",
       "      <td>NaN</td>\n",
       "      <td>NaN</td>\n",
       "      <td>NaN</td>\n",
       "      <td>NaN</td>\n",
       "      <td>NaN</td>\n",
       "      <td>NaN</td>\n",
       "      <td>NaN</td>\n",
       "      <td>NaN</td>\n",
       "      <td>NaN</td>\n",
       "      <td>NaN</td>\n",
       "      <td>...</td>\n",
       "      <td>NaN</td>\n",
       "      <td>NaN</td>\n",
       "      <td>NaN</td>\n",
       "      <td>NaN</td>\n",
       "      <td>NaN</td>\n",
       "      <td>NaN</td>\n",
       "      <td>NaN</td>\n",
       "      <td>NaN</td>\n",
       "      <td>NaN</td>\n",
       "      <td>NaN</td>\n",
       "    </tr>\n",
       "  </tbody>\n",
       "</table>\n",
       "<p>5 rows × 3706 columns</p>\n",
       "</div>"
      ],
      "text/plain": [
       "title    $1,000,000 Duck (1971)  'Night Mother (1986)  \\\n",
       "user_id                                                 \n",
       "1                           NaN                   NaN   \n",
       "2                           NaN                   NaN   \n",
       "3                           NaN                   NaN   \n",
       "4                           NaN                   NaN   \n",
       "5                           NaN                   NaN   \n",
       "\n",
       "title    'Til There Was You (1997)  'burbs, The (1989)  \\\n",
       "user_id                                                  \n",
       "1                              NaN                 NaN   \n",
       "2                              NaN                 NaN   \n",
       "3                              NaN                 NaN   \n",
       "4                              NaN                 NaN   \n",
       "5                              NaN                 NaN   \n",
       "\n",
       "title    ...And Justice for All (1979)  1-900 (1994)  \\\n",
       "user_id                                                \n",
       "1                                  NaN           NaN   \n",
       "2                                  NaN           NaN   \n",
       "3                                  NaN           NaN   \n",
       "4                                  NaN           NaN   \n",
       "5                                  NaN           NaN   \n",
       "\n",
       "title    10 Things I Hate About You (1999)  101 Dalmatians (1961)  \\\n",
       "user_id                                                             \n",
       "1                                      NaN                    NaN   \n",
       "2                                      NaN                    NaN   \n",
       "3                                      NaN                    NaN   \n",
       "4                                      NaN                    NaN   \n",
       "5                                      NaN                    NaN   \n",
       "\n",
       "title    101 Dalmatians (1996)  12 Angry Men (1957)       ...         \\\n",
       "user_id                                                   ...          \n",
       "1                          NaN                  NaN       ...          \n",
       "2                          NaN                  NaN       ...          \n",
       "3                          NaN                  NaN       ...          \n",
       "4                          NaN                  NaN       ...          \n",
       "5                          NaN                  NaN       ...          \n",
       "\n",
       "title    Young Poisoner's Handbook, The (1995)  Young Sherlock Holmes (1985)  \\\n",
       "user_id                                                                        \n",
       "1                                          NaN                           NaN   \n",
       "2                                          NaN                           NaN   \n",
       "3                                          NaN                           NaN   \n",
       "4                                          NaN                           NaN   \n",
       "5                                          NaN                           NaN   \n",
       "\n",
       "title    Young and Innocent (1937)  Your Friends and Neighbors (1998)  \\\n",
       "user_id                                                                 \n",
       "1                              NaN                                NaN   \n",
       "2                              NaN                                NaN   \n",
       "3                              NaN                                NaN   \n",
       "4                              NaN                                NaN   \n",
       "5                              NaN                                NaN   \n",
       "\n",
       "title    Zachariah (1971)  Zed & Two Noughts, A (1985)  Zero Effect (1998)  \\\n",
       "user_id                                                                      \n",
       "1                     NaN                          NaN                 NaN   \n",
       "2                     NaN                          NaN                 NaN   \n",
       "3                     NaN                          NaN                 NaN   \n",
       "4                     NaN                          NaN                 NaN   \n",
       "5                     NaN                          NaN                 NaN   \n",
       "\n",
       "title    Zero Kelvin (Kj�rlighetens kj�tere) (1995)  Zeus and Roxanne (1997)  \\\n",
       "user_id                                                                        \n",
       "1                                               NaN                      NaN   \n",
       "2                                               NaN                      NaN   \n",
       "3                                               NaN                      NaN   \n",
       "4                                               NaN                      NaN   \n",
       "5                                               NaN                      NaN   \n",
       "\n",
       "title    eXistenZ (1999)  \n",
       "user_id                   \n",
       "1                    NaN  \n",
       "2                    NaN  \n",
       "3                    NaN  \n",
       "4                    NaN  \n",
       "5                    NaN  \n",
       "\n",
       "[5 rows x 3706 columns]"
      ]
     },
     "execution_count": 36,
     "metadata": {},
     "output_type": "execute_result"
    }
   ],
   "source": [
    "#Create a matrix of movie titles and user ratings\n",
    "user_movie_rating = movie_ratings.pivot_table(index='user_id', columns='title', values='rating')\n",
    "user_movie_rating.head()"
   ]
  },
  {
   "cell_type": "markdown",
   "metadata": {},
   "source": [
    "Note:  The above matrix will have a lot of null values since every movie is not rated by every user."
   ]
  },
  {
   "cell_type": "markdown",
   "metadata": {
    "deletable": true,
    "editable": true
   },
   "source": [
    "We know that each column contains all the user ratings for a particular movie. Let's find all the user ratings for the movie \"Forrest Gump (1994)\" and find the movies similar to it. We chose this movie since it has the highest number of ratings and we want to find the correlation between movies that have a higher number of ratings."
   ]
  },
  {
   "cell_type": "code",
   "execution_count": 37,
   "metadata": {
    "collapsed": false,
    "deletable": true,
    "editable": true
   },
   "outputs": [
    {
     "data": {
      "text/plain": [
       "user_id\n",
       "1    NaN\n",
       "2    5.0\n",
       "3    NaN\n",
       "4    NaN\n",
       "5    1.0\n",
       "Name: Forrest Gump (1994), dtype: float64"
      ]
     },
     "execution_count": 37,
     "metadata": {},
     "output_type": "execute_result"
    }
   ],
   "source": [
    "forrest_gump_ratings = user_movie_rating['Forrest Gump (1994)']\n",
    "forrest_gump_ratings.head()"
   ]
  },
  {
   "cell_type": "markdown",
   "metadata": {
    "deletable": true,
    "editable": true
   },
   "source": [
    "Now let's retrieve all the movies that are similar to \"Forrest Gump (1994)\". We can find the correlation between the user ratings for the \"Forest Gump (1994)\" and all the other movies using corrwith() function as shown below:"
   ]
  },
  {
   "cell_type": "code",
   "execution_count": 38,
   "metadata": {
    "collapsed": false,
    "deletable": true,
    "editable": true
   },
   "outputs": [
    {
     "name": "stderr",
     "output_type": "stream",
     "text": [
      "/Users/abhinavkashyap/anaconda2/envs/gl-env/lib/python2.7/site-packages/numpy/lib/function_base.py:2079: RuntimeWarning: Degrees of freedom <= 0 for slice\n",
      "  warnings.warn(\"Degrees of freedom <= 0 for slice\", RuntimeWarning)\n"
     ]
    },
    {
     "data": {
      "text/html": [
       "<div>\n",
       "<table border=\"1\" class=\"dataframe\">\n",
       "  <thead>\n",
       "    <tr style=\"text-align: right;\">\n",
       "      <th></th>\n",
       "      <th>Correlation</th>\n",
       "    </tr>\n",
       "    <tr>\n",
       "      <th>title</th>\n",
       "      <th></th>\n",
       "    </tr>\n",
       "  </thead>\n",
       "  <tbody>\n",
       "    <tr>\n",
       "      <th>$1,000,000 Duck (1971)</th>\n",
       "      <td>0.230769</td>\n",
       "    </tr>\n",
       "    <tr>\n",
       "      <th>'Night Mother (1986)</th>\n",
       "      <td>0.339255</td>\n",
       "    </tr>\n",
       "    <tr>\n",
       "      <th>'Til There Was You (1997)</th>\n",
       "      <td>0.059541</td>\n",
       "    </tr>\n",
       "    <tr>\n",
       "      <th>'burbs, The (1989)</th>\n",
       "      <td>0.119454</td>\n",
       "    </tr>\n",
       "    <tr>\n",
       "      <th>...And Justice for All (1979)</th>\n",
       "      <td>0.164293</td>\n",
       "    </tr>\n",
       "  </tbody>\n",
       "</table>\n",
       "</div>"
      ],
      "text/plain": [
       "                               Correlation\n",
       "title                                     \n",
       "$1,000,000 Duck (1971)            0.230769\n",
       "'Night Mother (1986)              0.339255\n",
       "'Til There Was You (1997)         0.059541\n",
       "'burbs, The (1989)                0.119454\n",
       "...And Justice for All (1979)     0.164293"
      ]
     },
     "execution_count": 38,
     "metadata": {},
     "output_type": "execute_result"
    }
   ],
   "source": [
    "movies_like_forest_gump = user_movie_rating.corrwith(forrest_gump_ratings)\n",
    "\n",
    "corr_forrest_gump = pd.DataFrame(movies_like_forest_gump, columns=['Correlation'])  \n",
    "corr_forrest_gump.dropna(inplace=True)  \n",
    "corr_forrest_gump.head()"
   ]
  },
  {
   "cell_type": "code",
   "execution_count": 39,
   "metadata": {
    "collapsed": false,
    "deletable": true,
    "editable": true
   },
   "outputs": [
    {
     "data": {
      "text/html": [
       "<div>\n",
       "<table border=\"1\" class=\"dataframe\">\n",
       "  <thead>\n",
       "    <tr style=\"text-align: right;\">\n",
       "      <th></th>\n",
       "      <th>Correlation</th>\n",
       "      <th>rating_counts</th>\n",
       "    </tr>\n",
       "    <tr>\n",
       "      <th>title</th>\n",
       "      <th></th>\n",
       "      <th></th>\n",
       "    </tr>\n",
       "  </thead>\n",
       "  <tbody>\n",
       "    <tr>\n",
       "      <th>$1,000,000 Duck (1971)</th>\n",
       "      <td>0.230769</td>\n",
       "      <td>37</td>\n",
       "    </tr>\n",
       "    <tr>\n",
       "      <th>'Night Mother (1986)</th>\n",
       "      <td>0.339255</td>\n",
       "      <td>70</td>\n",
       "    </tr>\n",
       "    <tr>\n",
       "      <th>'Til There Was You (1997)</th>\n",
       "      <td>0.059541</td>\n",
       "      <td>52</td>\n",
       "    </tr>\n",
       "    <tr>\n",
       "      <th>'burbs, The (1989)</th>\n",
       "      <td>0.119454</td>\n",
       "      <td>303</td>\n",
       "    </tr>\n",
       "    <tr>\n",
       "      <th>...And Justice for All (1979)</th>\n",
       "      <td>0.164293</td>\n",
       "      <td>199</td>\n",
       "    </tr>\n",
       "  </tbody>\n",
       "</table>\n",
       "</div>"
      ],
      "text/plain": [
       "                               Correlation  rating_counts\n",
       "title                                                    \n",
       "$1,000,000 Duck (1971)            0.230769             37\n",
       "'Night Mother (1986)              0.339255             70\n",
       "'Til There Was You (1997)         0.059541             52\n",
       "'burbs, The (1989)                0.119454            303\n",
       "...And Justice for All (1979)     0.164293            199"
      ]
     },
     "execution_count": 39,
     "metadata": {},
     "output_type": "execute_result"
    }
   ],
   "source": [
    "#Adding rating_counts to the above dataframe\n",
    "corr_forrest_gump = corr_forrest_gump.join(ratings_mean_count['rating_counts'])  \n",
    "corr_forrest_gump.head()  "
   ]
  },
  {
   "cell_type": "code",
   "execution_count": 40,
   "metadata": {
    "collapsed": false,
    "deletable": true,
    "editable": true
   },
   "outputs": [
    {
     "data": {
      "text/html": [
       "<div>\n",
       "<table border=\"1\" class=\"dataframe\">\n",
       "  <thead>\n",
       "    <tr style=\"text-align: right;\">\n",
       "      <th></th>\n",
       "      <th>Correlation</th>\n",
       "      <th>rating_counts</th>\n",
       "    </tr>\n",
       "    <tr>\n",
       "      <th>title</th>\n",
       "      <th></th>\n",
       "      <th></th>\n",
       "    </tr>\n",
       "  </thead>\n",
       "  <tbody>\n",
       "    <tr>\n",
       "      <th>Forrest Gump (1994)</th>\n",
       "      <td>1.000000</td>\n",
       "      <td>2194</td>\n",
       "    </tr>\n",
       "    <tr>\n",
       "      <th>No Mercy (1986)</th>\n",
       "      <td>0.519698</td>\n",
       "      <td>61</td>\n",
       "    </tr>\n",
       "    <tr>\n",
       "      <th>Groove (2000)</th>\n",
       "      <td>0.498724</td>\n",
       "      <td>51</td>\n",
       "    </tr>\n",
       "    <tr>\n",
       "      <th>Prick Up Your Ears (1987)</th>\n",
       "      <td>0.478797</td>\n",
       "      <td>77</td>\n",
       "    </tr>\n",
       "    <tr>\n",
       "      <th>Date with an Angel (1987)</th>\n",
       "      <td>0.472535</td>\n",
       "      <td>51</td>\n",
       "    </tr>\n",
       "  </tbody>\n",
       "</table>\n",
       "</div>"
      ],
      "text/plain": [
       "                           Correlation  rating_counts\n",
       "title                                                \n",
       "Forrest Gump (1994)           1.000000           2194\n",
       "No Mercy (1986)               0.519698             61\n",
       "Groove (2000)                 0.498724             51\n",
       "Prick Up Your Ears (1987)     0.478797             77\n",
       "Date with an Angel (1987)     0.472535             51"
      ]
     },
     "execution_count": 40,
     "metadata": {},
     "output_type": "execute_result"
    }
   ],
   "source": [
    "#Considering only those movies with ratings > 50\n",
    "corr_forrest_gump[corr_forrest_gump ['rating_counts']>50].sort_values('Correlation', ascending=False).head()"
   ]
  },
  {
   "cell_type": "markdown",
   "metadata": {
    "deletable": true,
    "editable": true
   },
   "source": [
    "So, this suggests that the user who likes Forest Gump would have an approximately 50% chance to see the movie 'No Mercy', 'Groove', etc.\n",
    "This is a fairly low correlation, suggesting that our recommendation model is very poor. Hence, we try other recommendation models to improve our suggestions."
   ]
  },
  {
   "cell_type": "markdown",
   "metadata": {
    "deletable": true,
    "editable": true
   },
   "source": [
    "<h3>Building basic Recommendation Systems - Using Graphlab library </h3>"
   ]
  },
  {
   "cell_type": "markdown",
   "metadata": {
    "collapsed": false,
    "deletable": true,
    "editable": true
   },
   "source": [
    "#Before importing the graphlab library, you'll have to follow the following steps:\n",
    "Refer the links below and follow the instructions - https://arjunkrishnababu96.github.io/Getting-Started-With-GraphLab-Create/ <br>\n",
    "https://turi.com/download/install-graphlab-create-command-line.html\n",
    "\n",
    "Use the email id and product key as follows: <br>\n",
    "Registered Email Id: kashyaa2@uci.edu <br>\n",
    "Product key: 9064-7E88-DAE7-748B-4FF6-A84C-71A1-66F3"
   ]
  },
  {
   "cell_type": "code",
   "execution_count": 41,
   "metadata": {
    "collapsed": false,
    "deletable": true,
    "editable": true
   },
   "outputs": [],
   "source": [
    "import graphlab"
   ]
  },
  {
   "cell_type": "code",
   "execution_count": 42,
   "metadata": {
    "collapsed": false,
    "deletable": true,
    "editable": true
   },
   "outputs": [],
   "source": [
    "#Split the ratings data into training and testing set\n",
    "from sklearn import cross_validation as cv\n",
    "training_data, testing_data = cv.train_test_split(movie_ratings, test_size=0.25)"
   ]
  },
  {
   "cell_type": "code",
   "execution_count": 43,
   "metadata": {
    "collapsed": false,
    "deletable": true,
    "editable": true
   },
   "outputs": [
    {
     "name": "stderr",
     "output_type": "stream",
     "text": [
      "[INFO] graphlab.cython.cy_server: GraphLab Create v2.1 started. Logging: /tmp/graphlab_server_1553040044.log\n"
     ]
    },
    {
     "name": "stdout",
     "output_type": "stream",
     "text": [
      "This non-commercial license of GraphLab Create for academic use is assigned to kashyaa2@uci.edu and will expire on March 01, 2020.\n"
     ]
    }
   ],
   "source": [
    "#Since we’ll be using GraphLab, lets convert the training and testing dataset into SFrames.\n",
    "train_data = graphlab.SFrame(training_data)\n",
    "test_data = graphlab.SFrame(testing_data)"
   ]
  },
  {
   "cell_type": "code",
   "execution_count": 44,
   "metadata": {
    "collapsed": false,
    "deletable": true,
    "editable": true
   },
   "outputs": [
    {
     "data": {
      "text/html": [
       "<div style=\"max-height:1000px;max-width:1500px;overflow:auto;\"><table frame=\"box\" rules=\"cols\">\n",
       "    <tr>\n",
       "        <th style=\"padding-left: 1em; padding-right: 1em; text-align: center\">movie_id</th>\n",
       "        <th style=\"padding-left: 1em; padding-right: 1em; text-align: center\">title</th>\n",
       "        <th style=\"padding-left: 1em; padding-right: 1em; text-align: center\">genre</th>\n",
       "        <th style=\"padding-left: 1em; padding-right: 1em; text-align: center\">user_id</th>\n",
       "        <th style=\"padding-left: 1em; padding-right: 1em; text-align: center\">rating</th>\n",
       "        <th style=\"padding-left: 1em; padding-right: 1em; text-align: center\">timestamp</th>\n",
       "    </tr>\n",
       "    <tr>\n",
       "        <td style=\"padding-left: 1em; padding-right: 1em; text-align: center; vertical-align: top\">2395</td>\n",
       "        <td style=\"padding-left: 1em; padding-right: 1em; text-align: center; vertical-align: top\">Rushmore (1998)</td>\n",
       "        <td style=\"padding-left: 1em; padding-right: 1em; text-align: center; vertical-align: top\">Comedy</td>\n",
       "        <td style=\"padding-left: 1em; padding-right: 1em; text-align: center; vertical-align: top\">553</td>\n",
       "        <td style=\"padding-left: 1em; padding-right: 1em; text-align: center; vertical-align: top\">4</td>\n",
       "        <td style=\"padding-left: 1em; padding-right: 1em; text-align: center; vertical-align: top\">976059180</td>\n",
       "    </tr>\n",
       "    <tr>\n",
       "        <td style=\"padding-left: 1em; padding-right: 1em; text-align: center; vertical-align: top\">2762</td>\n",
       "        <td style=\"padding-left: 1em; padding-right: 1em; text-align: center; vertical-align: top\">Sixth Sense, The (1999)</td>\n",
       "        <td style=\"padding-left: 1em; padding-right: 1em; text-align: center; vertical-align: top\">Thriller</td>\n",
       "        <td style=\"padding-left: 1em; padding-right: 1em; text-align: center; vertical-align: top\">5327</td>\n",
       "        <td style=\"padding-left: 1em; padding-right: 1em; text-align: center; vertical-align: top\">5</td>\n",
       "        <td style=\"padding-left: 1em; padding-right: 1em; text-align: center; vertical-align: top\">961102223</td>\n",
       "    </tr>\n",
       "    <tr>\n",
       "        <td style=\"padding-left: 1em; padding-right: 1em; text-align: center; vertical-align: top\">3269</td>\n",
       "        <td style=\"padding-left: 1em; padding-right: 1em; text-align: center; vertical-align: top\">Forever Young (1992)</td>\n",
       "        <td style=\"padding-left: 1em; padding-right: 1em; text-align: center; vertical-align: top\">Adventure|Romance|Sci-Fi</td>\n",
       "        <td style=\"padding-left: 1em; padding-right: 1em; text-align: center; vertical-align: top\">3589</td>\n",
       "        <td style=\"padding-left: 1em; padding-right: 1em; text-align: center; vertical-align: top\">1</td>\n",
       "        <td style=\"padding-left: 1em; padding-right: 1em; text-align: center; vertical-align: top\">966657182</td>\n",
       "    </tr>\n",
       "    <tr>\n",
       "        <td style=\"padding-left: 1em; padding-right: 1em; text-align: center; vertical-align: top\">928</td>\n",
       "        <td style=\"padding-left: 1em; padding-right: 1em; text-align: center; vertical-align: top\">Rebecca (1940)</td>\n",
       "        <td style=\"padding-left: 1em; padding-right: 1em; text-align: center; vertical-align: top\">Romance|Thriller</td>\n",
       "        <td style=\"padding-left: 1em; padding-right: 1em; text-align: center; vertical-align: top\">731</td>\n",
       "        <td style=\"padding-left: 1em; padding-right: 1em; text-align: center; vertical-align: top\">5</td>\n",
       "        <td style=\"padding-left: 1em; padding-right: 1em; text-align: center; vertical-align: top\">975528115</td>\n",
       "    </tr>\n",
       "    <tr>\n",
       "        <td style=\"padding-left: 1em; padding-right: 1em; text-align: center; vertical-align: top\">3334</td>\n",
       "        <td style=\"padding-left: 1em; padding-right: 1em; text-align: center; vertical-align: top\">Key Largo (1948)</td>\n",
       "        <td style=\"padding-left: 1em; padding-right: 1em; text-align: center; vertical-align: top\">Crime|Drama|Film-<br>Noir|Thriller ...</td>\n",
       "        <td style=\"padding-left: 1em; padding-right: 1em; text-align: center; vertical-align: top\">4655</td>\n",
       "        <td style=\"padding-left: 1em; padding-right: 1em; text-align: center; vertical-align: top\">4</td>\n",
       "        <td style=\"padding-left: 1em; padding-right: 1em; text-align: center; vertical-align: top\">963900095</td>\n",
       "    </tr>\n",
       "</table>\n",
       "[5 rows x 6 columns]<br/>\n",
       "</div>"
      ],
      "text/plain": [
       "Columns:\n",
       "\tmovie_id\tint\n",
       "\ttitle\tstr\n",
       "\tgenre\tstr\n",
       "\tuser_id\tint\n",
       "\trating\tint\n",
       "\ttimestamp\tint\n",
       "\n",
       "Rows: 5\n",
       "\n",
       "Data:\n",
       "+----------+-------------------------+--------------------------------+---------+\n",
       "| movie_id |          title          |             genre              | user_id |\n",
       "+----------+-------------------------+--------------------------------+---------+\n",
       "|   2395   |     Rushmore (1998)     |             Comedy             |   553   |\n",
       "|   2762   | Sixth Sense, The (1999) |            Thriller            |   5327  |\n",
       "|   3269   |   Forever Young (1992)  |    Adventure|Romance|Sci-Fi    |   3589  |\n",
       "|   928    |      Rebecca (1940)     |        Romance|Thriller        |   731   |\n",
       "|   3334   |     Key Largo (1948)    | Crime|Drama|Film-Noir|Thriller |   4655  |\n",
       "+----------+-------------------------+--------------------------------+---------+\n",
       "+--------+-----------+\n",
       "| rating | timestamp |\n",
       "+--------+-----------+\n",
       "|   4    | 976059180 |\n",
       "|   5    | 961102223 |\n",
       "|   1    | 966657182 |\n",
       "|   5    | 975528115 |\n",
       "|   4    | 963900095 |\n",
       "+--------+-----------+\n",
       "[5 rows x 6 columns]"
      ]
     },
     "execution_count": 44,
     "metadata": {},
     "output_type": "execute_result"
    }
   ],
   "source": [
    "train_data.head(5)"
   ]
  },
  {
   "cell_type": "markdown",
   "metadata": {
    "deletable": true,
    "editable": true
   },
   "source": [
    "<h3><I> Simple Popularity Model: </I></h3>\n",
    "\n",
    "<h5>Lets start with making a popularity based model, i.e. the one where all the users have same recommendation based on the most popular choices. We’ll use the  graphlab recommender functions popularity_recommender for this.</h5>"
   ]
  },
  {
   "cell_type": "code",
   "execution_count": 45,
   "metadata": {
    "collapsed": false,
    "deletable": true,
    "editable": true
   },
   "outputs": [
    {
     "data": {
      "text/html": [
       "<div>\n",
       "<table border=\"1\" class=\"dataframe\">\n",
       "  <thead>\n",
       "    <tr style=\"text-align: right;\">\n",
       "      <th></th>\n",
       "      <th>movie_id</th>\n",
       "      <th>title</th>\n",
       "      <th>genre</th>\n",
       "      <th>user_id</th>\n",
       "      <th>rating</th>\n",
       "      <th>timestamp</th>\n",
       "    </tr>\n",
       "  </thead>\n",
       "  <tbody>\n",
       "    <tr>\n",
       "      <th>0</th>\n",
       "      <td>1</td>\n",
       "      <td>Toy Story (1995)</td>\n",
       "      <td>Animation|Children's|Comedy</td>\n",
       "      <td>1</td>\n",
       "      <td>5</td>\n",
       "      <td>978824268</td>\n",
       "    </tr>\n",
       "    <tr>\n",
       "      <th>1</th>\n",
       "      <td>1</td>\n",
       "      <td>Toy Story (1995)</td>\n",
       "      <td>Animation|Children's|Comedy</td>\n",
       "      <td>6</td>\n",
       "      <td>4</td>\n",
       "      <td>978237008</td>\n",
       "    </tr>\n",
       "    <tr>\n",
       "      <th>2</th>\n",
       "      <td>1</td>\n",
       "      <td>Toy Story (1995)</td>\n",
       "      <td>Animation|Children's|Comedy</td>\n",
       "      <td>8</td>\n",
       "      <td>4</td>\n",
       "      <td>978233496</td>\n",
       "    </tr>\n",
       "    <tr>\n",
       "      <th>3</th>\n",
       "      <td>1</td>\n",
       "      <td>Toy Story (1995)</td>\n",
       "      <td>Animation|Children's|Comedy</td>\n",
       "      <td>9</td>\n",
       "      <td>5</td>\n",
       "      <td>978225952</td>\n",
       "    </tr>\n",
       "    <tr>\n",
       "      <th>4</th>\n",
       "      <td>1</td>\n",
       "      <td>Toy Story (1995)</td>\n",
       "      <td>Animation|Children's|Comedy</td>\n",
       "      <td>10</td>\n",
       "      <td>5</td>\n",
       "      <td>978226474</td>\n",
       "    </tr>\n",
       "  </tbody>\n",
       "</table>\n",
       "</div>"
      ],
      "text/plain": [
       "   movie_id             title                        genre  user_id  rating  \\\n",
       "0         1  Toy Story (1995)  Animation|Children's|Comedy        1       5   \n",
       "1         1  Toy Story (1995)  Animation|Children's|Comedy        6       4   \n",
       "2         1  Toy Story (1995)  Animation|Children's|Comedy        8       4   \n",
       "3         1  Toy Story (1995)  Animation|Children's|Comedy        9       5   \n",
       "4         1  Toy Story (1995)  Animation|Children's|Comedy       10       5   \n",
       "\n",
       "   timestamp  \n",
       "0  978824268  \n",
       "1  978237008  \n",
       "2  978233496  \n",
       "3  978225952  \n",
       "4  978226474  "
      ]
     },
     "execution_count": 45,
     "metadata": {},
     "output_type": "execute_result"
    }
   ],
   "source": [
    "movie_ratings.head()"
   ]
  },
  {
   "cell_type": "code",
   "execution_count": 46,
   "metadata": {
    "collapsed": false,
    "deletable": true,
    "editable": true
   },
   "outputs": [
    {
     "data": {
      "text/html": [
       "<pre>Recsys training: model = popularity</pre>"
      ],
      "text/plain": [
       "Recsys training: model = popularity"
      ]
     },
     "metadata": {},
     "output_type": "display_data"
    },
    {
     "data": {
      "text/html": [
       "<pre>Warning: Ignoring columns movie_id, genre, timestamp;</pre>"
      ],
      "text/plain": [
       "Warning: Ignoring columns movie_id, genre, timestamp;"
      ]
     },
     "metadata": {},
     "output_type": "display_data"
    },
    {
     "data": {
      "text/html": [
       "<pre>    To use these columns in scoring predictions, use a model that allows the use of additional features.</pre>"
      ],
      "text/plain": [
       "    To use these columns in scoring predictions, use a model that allows the use of additional features."
      ]
     },
     "metadata": {},
     "output_type": "display_data"
    },
    {
     "data": {
      "text/html": [
       "<pre>Preparing data set.</pre>"
      ],
      "text/plain": [
       "Preparing data set."
      ]
     },
     "metadata": {},
     "output_type": "display_data"
    },
    {
     "data": {
      "text/html": [
       "<pre>    Data has 750156 observations with 6040 users and 3677 items.</pre>"
      ],
      "text/plain": [
       "    Data has 750156 observations with 6040 users and 3677 items."
      ]
     },
     "metadata": {},
     "output_type": "display_data"
    },
    {
     "data": {
      "text/html": [
       "<pre>    Data prepared in: 0.669179s</pre>"
      ],
      "text/plain": [
       "    Data prepared in: 0.669179s"
      ]
     },
     "metadata": {},
     "output_type": "display_data"
    },
    {
     "data": {
      "text/html": [
       "<pre>750156 observations to process; with 3677 unique items.</pre>"
      ],
      "text/plain": [
       "750156 observations to process; with 3677 unique items."
      ]
     },
     "metadata": {},
     "output_type": "display_data"
    }
   ],
   "source": [
    "popularity_model = graphlab.popularity_recommender.create(train_data, user_id='user_id',\n",
    "                                                          item_id='title', target='rating')"
   ]
  },
  {
   "cell_type": "markdown",
   "metadata": {
    "deletable": true,
    "editable": true
   },
   "source": [
    "Arguments for the above function are:\n",
    "\n",
    "train_data: the SFrame which contains the required data <br>\n",
    "user_id: the column name which represents each user ID <br>\n",
    "item_id: the column name which represents each item to be recommended <br>\n",
    "target: the column name representing scores/ratings given by the user"
   ]
  },
  {
   "cell_type": "markdown",
   "metadata": {
    "deletable": true,
    "editable": true
   },
   "source": [
    "<h4>Lets use this model to make top 5 recommendations for first 5 users and see what comes out:</h4>"
   ]
  },
  {
   "cell_type": "code",
   "execution_count": 47,
   "metadata": {
    "collapsed": false,
    "deletable": true,
    "editable": true
   },
   "outputs": [
    {
     "name": "stdout",
     "output_type": "stream",
     "text": [
      "+---------+-------------------------------+-------+------+\n",
      "| user_id |             title             | score | rank |\n",
      "+---------+-------------------------------+-------+------+\n",
      "|    1    |    Bittersweet Motel (2000)   |  5.0  |  1   |\n",
      "|    1    |    Follow the Bitch (1998)    |  5.0  |  2   |\n",
      "|    1    |        Baby, The (1973)       |  5.0  |  3   |\n",
      "|    1    | I Am Cuba (Soy Cuba/Ya Kub... |  5.0  |  4   |\n",
      "|    1    |          Lured (1947)         |  5.0  |  5   |\n",
      "|    2    |    Bittersweet Motel (2000)   |  5.0  |  1   |\n",
      "|    2    |    Follow the Bitch (1998)    |  5.0  |  2   |\n",
      "|    2    |        Baby, The (1973)       |  5.0  |  3   |\n",
      "|    2    | I Am Cuba (Soy Cuba/Ya Kub... |  5.0  |  4   |\n",
      "|    2    |          Lured (1947)         |  5.0  |  5   |\n",
      "|    3    |    Bittersweet Motel (2000)   |  5.0  |  1   |\n",
      "|    3    |    Follow the Bitch (1998)    |  5.0  |  2   |\n",
      "|    3    |        Baby, The (1973)       |  5.0  |  3   |\n",
      "|    3    | I Am Cuba (Soy Cuba/Ya Kub... |  5.0  |  4   |\n",
      "|    3    |          Lured (1947)         |  5.0  |  5   |\n",
      "+---------+-------------------------------+-------+------+\n",
      "[25 rows x 4 columns]\n",
      "\n"
     ]
    }
   ],
   "source": [
    "#Get recommendations for first 5 users and print them\n",
    "#users = range(1,6) specifies user ID of first 5 users\n",
    "#k=5 specifies top 5 recommendations to be given\n",
    "popularity_recomm = popularity_model.recommend(users=range(1,6),k=5)\n",
    "popularity_recomm.print_rows(num_rows=15)"
   ]
  },
  {
   "cell_type": "markdown",
   "metadata": {
    "deletable": true,
    "editable": true
   },
   "source": [
    "The recommendations for all users are same and in the same order. This is becasue all the recommended movies have an average rating of 5, i.e. all the users who watched the movie gave a top rating. Thus we can see that our popularity system works as expected however it is not a good movie recommendeder system."
   ]
  },
  {
   "cell_type": "markdown",
   "metadata": {
    "deletable": true,
    "editable": true
   },
   "source": [
    "<h3> A collaborative filtering model <h3>"
   ]
  },
  {
   "cell_type": "markdown",
   "metadata": {
    "deletable": true,
    "editable": true
   },
   "source": [
    "Lets start by understanding the basics of a collaborative filtering algorithm. The core idea works in 2 steps:\n",
    "\n",
    "    1. Find similar items by using a similarity metric\n",
    "    2. For a user, recommend the items most similar to the items (s)he already likes\n",
    "\n",
    "To give you a high level overview, this is done by making an item-item matrix in which we keep a record of the pair of items which were rated together.\n",
    "\n",
    "In this case, an item is a movie. Once we have the matrix, we use it to determine the best recommendations for a user based on the movies he has already rated."
   ]
  },
  {
   "cell_type": "code",
   "execution_count": 48,
   "metadata": {
    "collapsed": false,
    "deletable": true,
    "editable": true
   },
   "outputs": [
    {
     "data": {
      "text/html": [
       "<pre>Recsys training: model = item_similarity</pre>"
      ],
      "text/plain": [
       "Recsys training: model = item_similarity"
      ]
     },
     "metadata": {},
     "output_type": "display_data"
    },
    {
     "data": {
      "text/html": [
       "<pre>Warning: Ignoring columns title, genre, timestamp;</pre>"
      ],
      "text/plain": [
       "Warning: Ignoring columns title, genre, timestamp;"
      ]
     },
     "metadata": {},
     "output_type": "display_data"
    },
    {
     "data": {
      "text/html": [
       "<pre>    To use these columns in scoring predictions, use a model that allows the use of additional features.</pre>"
      ],
      "text/plain": [
       "    To use these columns in scoring predictions, use a model that allows the use of additional features."
      ]
     },
     "metadata": {},
     "output_type": "display_data"
    },
    {
     "data": {
      "text/html": [
       "<pre>Preparing data set.</pre>"
      ],
      "text/plain": [
       "Preparing data set."
      ]
     },
     "metadata": {},
     "output_type": "display_data"
    },
    {
     "data": {
      "text/html": [
       "<pre>    Data has 750156 observations with 6040 users and 3677 items.</pre>"
      ],
      "text/plain": [
       "    Data has 750156 observations with 6040 users and 3677 items."
      ]
     },
     "metadata": {},
     "output_type": "display_data"
    },
    {
     "data": {
      "text/html": [
       "<pre>    Data prepared in: 0.510905s</pre>"
      ],
      "text/plain": [
       "    Data prepared in: 0.510905s"
      ]
     },
     "metadata": {},
     "output_type": "display_data"
    },
    {
     "data": {
      "text/html": [
       "<pre>Training model from provided data.</pre>"
      ],
      "text/plain": [
       "Training model from provided data."
      ]
     },
     "metadata": {},
     "output_type": "display_data"
    },
    {
     "data": {
      "text/html": [
       "<pre>Gathering per-item and per-user statistics.</pre>"
      ],
      "text/plain": [
       "Gathering per-item and per-user statistics."
      ]
     },
     "metadata": {},
     "output_type": "display_data"
    },
    {
     "data": {
      "text/html": [
       "<pre>+--------------------------------+------------+</pre>"
      ],
      "text/plain": [
       "+--------------------------------+------------+"
      ]
     },
     "metadata": {},
     "output_type": "display_data"
    },
    {
     "data": {
      "text/html": [
       "<pre>| Elapsed Time (Item Statistics) | % Complete |</pre>"
      ],
      "text/plain": [
       "| Elapsed Time (Item Statistics) | % Complete |"
      ]
     },
     "metadata": {},
     "output_type": "display_data"
    },
    {
     "data": {
      "text/html": [
       "<pre>+--------------------------------+------------+</pre>"
      ],
      "text/plain": [
       "+--------------------------------+------------+"
      ]
     },
     "metadata": {},
     "output_type": "display_data"
    },
    {
     "data": {
      "text/html": [
       "<pre>| 8.117ms                        | 16.5       |</pre>"
      ],
      "text/plain": [
       "| 8.117ms                        | 16.5       |"
      ]
     },
     "metadata": {},
     "output_type": "display_data"
    },
    {
     "data": {
      "text/html": [
       "<pre>| 26.514ms                       | 100        |</pre>"
      ],
      "text/plain": [
       "| 26.514ms                       | 100        |"
      ]
     },
     "metadata": {},
     "output_type": "display_data"
    },
    {
     "data": {
      "text/html": [
       "<pre>+--------------------------------+------------+</pre>"
      ],
      "text/plain": [
       "+--------------------------------+------------+"
      ]
     },
     "metadata": {},
     "output_type": "display_data"
    },
    {
     "data": {
      "text/html": [
       "<pre>Setting up lookup tables.</pre>"
      ],
      "text/plain": [
       "Setting up lookup tables."
      ]
     },
     "metadata": {},
     "output_type": "display_data"
    },
    {
     "data": {
      "text/html": [
       "<pre>Processing data in one pass using dense lookup tables.</pre>"
      ],
      "text/plain": [
       "Processing data in one pass using dense lookup tables."
      ]
     },
     "metadata": {},
     "output_type": "display_data"
    },
    {
     "data": {
      "text/html": [
       "<pre>+-------------------------------------+------------------+-----------------+</pre>"
      ],
      "text/plain": [
       "+-------------------------------------+------------------+-----------------+"
      ]
     },
     "metadata": {},
     "output_type": "display_data"
    },
    {
     "data": {
      "text/html": [
       "<pre>| Elapsed Time (Constructing Lookups) | Total % Complete | Items Processed |</pre>"
      ],
      "text/plain": [
       "| Elapsed Time (Constructing Lookups) | Total % Complete | Items Processed |"
      ]
     },
     "metadata": {},
     "output_type": "display_data"
    },
    {
     "data": {
      "text/html": [
       "<pre>+-------------------------------------+------------------+-----------------+</pre>"
      ],
      "text/plain": [
       "+-------------------------------------+------------------+-----------------+"
      ]
     },
     "metadata": {},
     "output_type": "display_data"
    },
    {
     "data": {
      "text/html": [
       "<pre>| 58.603ms                            | 0                | 0               |</pre>"
      ],
      "text/plain": [
       "| 58.603ms                            | 0                | 0               |"
      ]
     },
     "metadata": {},
     "output_type": "display_data"
    },
    {
     "data": {
      "text/html": [
       "<pre>| 1.06s                               | 46.75            | 1726            |</pre>"
      ],
      "text/plain": [
       "| 1.06s                               | 46.75            | 1726            |"
      ]
     },
     "metadata": {},
     "output_type": "display_data"
    },
    {
     "data": {
      "text/html": [
       "<pre>| 2.06s                               | 91               | 3353            |</pre>"
      ],
      "text/plain": [
       "| 2.06s                               | 91               | 3353            |"
      ]
     },
     "metadata": {},
     "output_type": "display_data"
    },
    {
     "data": {
      "text/html": [
       "<pre>| 2.37s                               | 100              | 3677            |</pre>"
      ],
      "text/plain": [
       "| 2.37s                               | 100              | 3677            |"
      ]
     },
     "metadata": {},
     "output_type": "display_data"
    },
    {
     "data": {
      "text/html": [
       "<pre>+-------------------------------------+------------------+-----------------+</pre>"
      ],
      "text/plain": [
       "+-------------------------------------+------------------+-----------------+"
      ]
     },
     "metadata": {},
     "output_type": "display_data"
    },
    {
     "data": {
      "text/html": [
       "<pre>Finalizing lookup tables.</pre>"
      ],
      "text/plain": [
       "Finalizing lookup tables."
      ]
     },
     "metadata": {},
     "output_type": "display_data"
    },
    {
     "data": {
      "text/html": [
       "<pre>Generating candidate set for working with new users.</pre>"
      ],
      "text/plain": [
       "Generating candidate set for working with new users."
      ]
     },
     "metadata": {},
     "output_type": "display_data"
    },
    {
     "data": {
      "text/html": [
       "<pre>Finished training in 3.4421s</pre>"
      ],
      "text/plain": [
       "Finished training in 3.4421s"
      ]
     },
     "metadata": {},
     "output_type": "display_data"
    }
   ],
   "source": [
    "#Train Model\n",
    "item_sim_model = graphlab.item_similarity_recommender.create(train_data, user_id='user_id', item_id='movie_id', \n",
    "                                                             target='rating', similarity_type='pearson')"
   ]
  },
  {
   "cell_type": "code",
   "execution_count": 49,
   "metadata": {
    "collapsed": false,
    "deletable": true,
    "editable": true
   },
   "outputs": [
    {
     "name": "stdout",
     "output_type": "stream",
     "text": [
      "+---------+----------+-------+------+\n",
      "| user_id | movie_id | score | rank |\n",
      "+---------+----------+-------+------+\n",
      "|    1    |   3172   |  5.0  |  1   |\n",
      "|    1    |   3881   |  5.0  |  2   |\n",
      "|    1    |   3280   |  5.0  |  3   |\n",
      "|    1    |   3245   |  5.0  |  4   |\n",
      "|    1    |   3656   |  5.0  |  5   |\n",
      "|    2    |   3172   |  5.0  |  1   |\n",
      "|    2    |   3881   |  5.0  |  2   |\n",
      "|    2    |   3280   |  5.0  |  3   |\n",
      "|    2    |   3245   |  5.0  |  4   |\n",
      "|    2    |   3656   |  5.0  |  5   |\n",
      "|    3    |   3172   |  5.0  |  1   |\n",
      "|    3    |   3881   |  5.0  |  2   |\n",
      "|    3    |   3280   |  5.0  |  3   |\n",
      "|    3    |   3245   |  5.0  |  4   |\n",
      "|    3    |   3656   |  5.0  |  5   |\n",
      "|    4    |   3172   |  5.0  |  1   |\n",
      "|    4    |   3881   |  5.0  |  2   |\n",
      "|    4    |   3280   |  5.0  |  3   |\n",
      "|    4    |   3245   |  5.0  |  4   |\n",
      "|    4    |   3656   |  5.0  |  5   |\n",
      "|    5    |   3172   |  5.0  |  1   |\n",
      "|    5    |   3881   |  5.0  |  2   |\n",
      "|    5    |   3280   |  5.0  |  3   |\n",
      "|    5    |   3245   |  5.0  |  4   |\n",
      "|    5    |   3656   |  5.0  |  5   |\n",
      "+---------+----------+-------+------+\n",
      "[25 rows x 4 columns]\n",
      "\n"
     ]
    }
   ],
   "source": [
    "#Make Recommendations:\n",
    "item_sim_recomm = item_sim_model.recommend(users=range(1,6),k=5)\n",
    "item_sim_recomm.print_rows(num_rows=25)"
   ]
  },
  {
   "cell_type": "markdown",
   "metadata": {
    "deletable": true,
    "editable": true
   },
   "source": [
    "<h3> Evaluating the 2 models - Popularity and Collaborative Filtering Models <h3>"
   ]
  },
  {
   "cell_type": "markdown",
   "metadata": {},
   "source": [
    "For evaluating recommendation engines, we can use the concept of precision-recall.\n",
    "\n",
    "Recall: <br>\n",
    "What ratio of items that a user likes were actually recommended.\n",
    "If a user likes say 5 items and the recommendation decided to show 3 of them, then the recall is 0.6\n",
    "\n",
    "Precision <br>\n",
    "Out of all the recommended items, how many the user actually liked?\n",
    "If 5 items were recommended to the user out of which he liked say 4 of them, then precision is 0.8\n",
    "Now if we think about recall, how can we maximize it? If we simply recommend all the items, they will definitely cover the items which the user likes. So we have 100% recall! But think about precision for a second. If we recommend say 1000 items and user like only say 10 of them then precision is 0.1%. This is really low. Our aim is to maximize both precision and recall.\n",
    "\n",
    "An ideal recommender system is the one which only recommends the items which user likes. So in this case precision=recall=1. This is an optimal recommender and we should try and get as close as possible.\n",
    "\n",
    "Lets compare both the models we have built till now based on precision-recall characteristics:"
   ]
  },
  {
   "cell_type": "code",
   "execution_count": 50,
   "metadata": {
    "collapsed": false,
    "deletable": true,
    "editable": true
   },
   "outputs": [
    {
     "name": "stdout",
     "output_type": "stream",
     "text": [
      "PROGRESS: Evaluate model M0\n"
     ]
    },
    {
     "data": {
      "text/html": [
       "<pre>recommendations finished on 1000/6039 queries. users per second: 22487.6</pre>"
      ],
      "text/plain": [
       "recommendations finished on 1000/6039 queries. users per second: 22487.6"
      ]
     },
     "metadata": {},
     "output_type": "display_data"
    },
    {
     "data": {
      "text/html": [
       "<pre>recommendations finished on 2000/6039 queries. users per second: 20642.4</pre>"
      ],
      "text/plain": [
       "recommendations finished on 2000/6039 queries. users per second: 20642.4"
      ]
     },
     "metadata": {},
     "output_type": "display_data"
    },
    {
     "data": {
      "text/html": [
       "<pre>recommendations finished on 3000/6039 queries. users per second: 20281.1</pre>"
      ],
      "text/plain": [
       "recommendations finished on 3000/6039 queries. users per second: 20281.1"
      ]
     },
     "metadata": {},
     "output_type": "display_data"
    },
    {
     "data": {
      "text/html": [
       "<pre>recommendations finished on 4000/6039 queries. users per second: 20142.9</pre>"
      ],
      "text/plain": [
       "recommendations finished on 4000/6039 queries. users per second: 20142.9"
      ]
     },
     "metadata": {},
     "output_type": "display_data"
    },
    {
     "data": {
      "text/html": [
       "<pre>recommendations finished on 5000/6039 queries. users per second: 19816.1</pre>"
      ],
      "text/plain": [
       "recommendations finished on 5000/6039 queries. users per second: 19816.1"
      ]
     },
     "metadata": {},
     "output_type": "display_data"
    },
    {
     "data": {
      "text/html": [
       "<pre>recommendations finished on 6000/6039 queries. users per second: 19253.5</pre>"
      ],
      "text/plain": [
       "recommendations finished on 6000/6039 queries. users per second: 19253.5"
      ]
     },
     "metadata": {},
     "output_type": "display_data"
    },
    {
     "name": "stdout",
     "output_type": "stream",
     "text": [
      "\n",
      "Precision and recall summary statistics by cutoff\n",
      "+--------+-------------------+-------------------+\n",
      "| cutoff |   mean_precision  |    mean_recall    |\n",
      "+--------+-------------------+-------------------+\n",
      "|   1    | 0.000496770988574 | 7.87095748077e-06 |\n",
      "|   2    | 0.000248385494287 | 7.87095748077e-06 |\n",
      "|   3    | 0.000220787106033 | 9.31087338968e-06 |\n",
      "|   4    | 0.000206987911906 |  2.113875407e-05  |\n",
      "|   5    |  0.00019870839543 | 2.38095658365e-05 |\n",
      "|   6    | 0.000165590329525 | 2.38095658365e-05 |\n",
      "|   7    | 0.000141934568164 | 2.38095658365e-05 |\n",
      "|   8    | 0.000144891538334 | 2.53428096284e-05 |\n",
      "|   9    | 0.000183989255028 | 3.46783622441e-05 |\n",
      "|   10   | 0.000182149362477 | 4.74160798998e-05 |\n",
      "+--------+-------------------+-------------------+\n",
      "[10 rows x 3 columns]\n",
      "\n",
      "PROGRESS: Evaluate model M1\n"
     ]
    },
    {
     "data": {
      "text/html": [
       "<pre>recommendations finished on 1000/6039 queries. users per second: 13743.8</pre>"
      ],
      "text/plain": [
       "recommendations finished on 1000/6039 queries. users per second: 13743.8"
      ]
     },
     "metadata": {},
     "output_type": "display_data"
    },
    {
     "data": {
      "text/html": [
       "<pre>recommendations finished on 2000/6039 queries. users per second: 12902</pre>"
      ],
      "text/plain": [
       "recommendations finished on 2000/6039 queries. users per second: 12902"
      ]
     },
     "metadata": {},
     "output_type": "display_data"
    },
    {
     "data": {
      "text/html": [
       "<pre>recommendations finished on 3000/6039 queries. users per second: 12913.3</pre>"
      ],
      "text/plain": [
       "recommendations finished on 3000/6039 queries. users per second: 12913.3"
      ]
     },
     "metadata": {},
     "output_type": "display_data"
    },
    {
     "data": {
      "text/html": [
       "<pre>recommendations finished on 4000/6039 queries. users per second: 12672</pre>"
      ],
      "text/plain": [
       "recommendations finished on 4000/6039 queries. users per second: 12672"
      ]
     },
     "metadata": {},
     "output_type": "display_data"
    },
    {
     "data": {
      "text/html": [
       "<pre>recommendations finished on 5000/6039 queries. users per second: 12945.3</pre>"
      ],
      "text/plain": [
       "recommendations finished on 5000/6039 queries. users per second: 12945.3"
      ]
     },
     "metadata": {},
     "output_type": "display_data"
    },
    {
     "data": {
      "text/html": [
       "<pre>recommendations finished on 6000/6039 queries. users per second: 13031.7</pre>"
      ],
      "text/plain": [
       "recommendations finished on 6000/6039 queries. users per second: 13031.7"
      ]
     },
     "metadata": {},
     "output_type": "display_data"
    },
    {
     "name": "stdout",
     "output_type": "stream",
     "text": [
      "\n",
      "Precision and recall summary statistics by cutoff\n",
      "+--------+-------------------+-------------------+\n",
      "| cutoff |   mean_precision  |    mean_recall    |\n",
      "+--------+-------------------+-------------------+\n",
      "|   1    | 0.000165590329525 | 2.67081176653e-06 |\n",
      "|   2    | 8.27951647624e-05 | 2.67081176653e-06 |\n",
      "|   3    | 5.51967765083e-05 | 2.67081176653e-06 |\n",
      "|   4    | 8.27951647624e-05 | 6.05020624663e-06 |\n",
      "|   5    | 9.93541977149e-05 | 7.00737578145e-06 |\n",
      "|   6    | 0.000110393553017 | 8.31123664385e-06 |\n",
      "|   7    | 9.46230454427e-05 | 8.31123664385e-06 |\n",
      "|   8    | 8.27951647624e-05 | 8.31123664385e-06 |\n",
      "|   9    | 0.000128792478519 | 3.84400994607e-05 |\n",
      "|   10   | 0.000165590329525 | 5.89074755945e-05 |\n",
      "+--------+-------------------+-------------------+\n",
      "[10 rows x 3 columns]\n",
      "\n",
      "Model compare metric: precision_recall\n",
      "Canvas is accessible via web browser at the URL: http://localhost:51705/index.html\n",
      "Opening Canvas in default web browser.\n"
     ]
    }
   ],
   "source": [
    "model_performance = graphlab.compare(test_data, [popularity_model, item_sim_model])\n",
    "graphlab.show_comparison(model_performance,[popularity_model, item_sim_model])"
   ]
  },
  {
   "cell_type": "markdown",
   "metadata": {},
   "source": [
    "Here we can make 2 very quick observations:\n",
    "\n",
    "The item similarity model is definitely better than the popularity model (by atleast 10x)\n",
    "On an absolute level, even the item similarity model appears to have a poor performance. It is far from being a useful recommendation system."
   ]
  },
  {
   "cell_type": "markdown",
   "metadata": {
    "deletable": true,
    "editable": true
   },
   "source": [
    "<h3>Singular Vector Decomposition (SVD) Model for Movie Recommendations<h3>"
   ]
  },
  {
   "cell_type": "code",
   "execution_count": 51,
   "metadata": {
    "collapsed": false,
    "deletable": true,
    "editable": true
   },
   "outputs": [
    {
     "data": {
      "text/html": [
       "<div>\n",
       "<table border=\"1\" class=\"dataframe\">\n",
       "  <thead>\n",
       "    <tr style=\"text-align: right;\">\n",
       "      <th>movie_id</th>\n",
       "      <th>1</th>\n",
       "      <th>2</th>\n",
       "      <th>3</th>\n",
       "      <th>4</th>\n",
       "      <th>5</th>\n",
       "      <th>6</th>\n",
       "      <th>7</th>\n",
       "      <th>8</th>\n",
       "      <th>9</th>\n",
       "      <th>10</th>\n",
       "      <th>...</th>\n",
       "      <th>3943</th>\n",
       "      <th>3944</th>\n",
       "      <th>3945</th>\n",
       "      <th>3946</th>\n",
       "      <th>3947</th>\n",
       "      <th>3948</th>\n",
       "      <th>3949</th>\n",
       "      <th>3950</th>\n",
       "      <th>3951</th>\n",
       "      <th>3952</th>\n",
       "    </tr>\n",
       "    <tr>\n",
       "      <th>user_id</th>\n",
       "      <th></th>\n",
       "      <th></th>\n",
       "      <th></th>\n",
       "      <th></th>\n",
       "      <th></th>\n",
       "      <th></th>\n",
       "      <th></th>\n",
       "      <th></th>\n",
       "      <th></th>\n",
       "      <th></th>\n",
       "      <th></th>\n",
       "      <th></th>\n",
       "      <th></th>\n",
       "      <th></th>\n",
       "      <th></th>\n",
       "      <th></th>\n",
       "      <th></th>\n",
       "      <th></th>\n",
       "      <th></th>\n",
       "      <th></th>\n",
       "      <th></th>\n",
       "    </tr>\n",
       "  </thead>\n",
       "  <tbody>\n",
       "    <tr>\n",
       "      <th>1</th>\n",
       "      <td>5.0</td>\n",
       "      <td>0.0</td>\n",
       "      <td>0.0</td>\n",
       "      <td>0.0</td>\n",
       "      <td>0.0</td>\n",
       "      <td>0.0</td>\n",
       "      <td>0.0</td>\n",
       "      <td>0.0</td>\n",
       "      <td>0.0</td>\n",
       "      <td>0.0</td>\n",
       "      <td>...</td>\n",
       "      <td>0.0</td>\n",
       "      <td>0.0</td>\n",
       "      <td>0.0</td>\n",
       "      <td>0.0</td>\n",
       "      <td>0.0</td>\n",
       "      <td>0.0</td>\n",
       "      <td>0.0</td>\n",
       "      <td>0.0</td>\n",
       "      <td>0.0</td>\n",
       "      <td>0.0</td>\n",
       "    </tr>\n",
       "    <tr>\n",
       "      <th>2</th>\n",
       "      <td>0.0</td>\n",
       "      <td>0.0</td>\n",
       "      <td>0.0</td>\n",
       "      <td>0.0</td>\n",
       "      <td>0.0</td>\n",
       "      <td>0.0</td>\n",
       "      <td>0.0</td>\n",
       "      <td>0.0</td>\n",
       "      <td>0.0</td>\n",
       "      <td>0.0</td>\n",
       "      <td>...</td>\n",
       "      <td>0.0</td>\n",
       "      <td>0.0</td>\n",
       "      <td>0.0</td>\n",
       "      <td>0.0</td>\n",
       "      <td>0.0</td>\n",
       "      <td>0.0</td>\n",
       "      <td>0.0</td>\n",
       "      <td>0.0</td>\n",
       "      <td>0.0</td>\n",
       "      <td>0.0</td>\n",
       "    </tr>\n",
       "    <tr>\n",
       "      <th>3</th>\n",
       "      <td>0.0</td>\n",
       "      <td>0.0</td>\n",
       "      <td>0.0</td>\n",
       "      <td>0.0</td>\n",
       "      <td>0.0</td>\n",
       "      <td>0.0</td>\n",
       "      <td>0.0</td>\n",
       "      <td>0.0</td>\n",
       "      <td>0.0</td>\n",
       "      <td>0.0</td>\n",
       "      <td>...</td>\n",
       "      <td>0.0</td>\n",
       "      <td>0.0</td>\n",
       "      <td>0.0</td>\n",
       "      <td>0.0</td>\n",
       "      <td>0.0</td>\n",
       "      <td>0.0</td>\n",
       "      <td>0.0</td>\n",
       "      <td>0.0</td>\n",
       "      <td>0.0</td>\n",
       "      <td>0.0</td>\n",
       "    </tr>\n",
       "    <tr>\n",
       "      <th>4</th>\n",
       "      <td>0.0</td>\n",
       "      <td>0.0</td>\n",
       "      <td>0.0</td>\n",
       "      <td>0.0</td>\n",
       "      <td>0.0</td>\n",
       "      <td>0.0</td>\n",
       "      <td>0.0</td>\n",
       "      <td>0.0</td>\n",
       "      <td>0.0</td>\n",
       "      <td>0.0</td>\n",
       "      <td>...</td>\n",
       "      <td>0.0</td>\n",
       "      <td>0.0</td>\n",
       "      <td>0.0</td>\n",
       "      <td>0.0</td>\n",
       "      <td>0.0</td>\n",
       "      <td>0.0</td>\n",
       "      <td>0.0</td>\n",
       "      <td>0.0</td>\n",
       "      <td>0.0</td>\n",
       "      <td>0.0</td>\n",
       "    </tr>\n",
       "    <tr>\n",
       "      <th>5</th>\n",
       "      <td>0.0</td>\n",
       "      <td>0.0</td>\n",
       "      <td>0.0</td>\n",
       "      <td>0.0</td>\n",
       "      <td>0.0</td>\n",
       "      <td>2.0</td>\n",
       "      <td>0.0</td>\n",
       "      <td>0.0</td>\n",
       "      <td>0.0</td>\n",
       "      <td>0.0</td>\n",
       "      <td>...</td>\n",
       "      <td>0.0</td>\n",
       "      <td>0.0</td>\n",
       "      <td>0.0</td>\n",
       "      <td>0.0</td>\n",
       "      <td>0.0</td>\n",
       "      <td>0.0</td>\n",
       "      <td>0.0</td>\n",
       "      <td>0.0</td>\n",
       "      <td>0.0</td>\n",
       "      <td>0.0</td>\n",
       "    </tr>\n",
       "  </tbody>\n",
       "</table>\n",
       "<p>5 rows × 3706 columns</p>\n",
       "</div>"
      ],
      "text/plain": [
       "movie_id  1     2     3     4     5     6     7     8     9     10    ...   \\\n",
       "user_id                                                               ...    \n",
       "1          5.0   0.0   0.0   0.0   0.0   0.0   0.0   0.0   0.0   0.0  ...    \n",
       "2          0.0   0.0   0.0   0.0   0.0   0.0   0.0   0.0   0.0   0.0  ...    \n",
       "3          0.0   0.0   0.0   0.0   0.0   0.0   0.0   0.0   0.0   0.0  ...    \n",
       "4          0.0   0.0   0.0   0.0   0.0   0.0   0.0   0.0   0.0   0.0  ...    \n",
       "5          0.0   0.0   0.0   0.0   0.0   2.0   0.0   0.0   0.0   0.0  ...    \n",
       "\n",
       "movie_id  3943  3944  3945  3946  3947  3948  3949  3950  3951  3952  \n",
       "user_id                                                               \n",
       "1          0.0   0.0   0.0   0.0   0.0   0.0   0.0   0.0   0.0   0.0  \n",
       "2          0.0   0.0   0.0   0.0   0.0   0.0   0.0   0.0   0.0   0.0  \n",
       "3          0.0   0.0   0.0   0.0   0.0   0.0   0.0   0.0   0.0   0.0  \n",
       "4          0.0   0.0   0.0   0.0   0.0   0.0   0.0   0.0   0.0   0.0  \n",
       "5          0.0   0.0   0.0   0.0   0.0   0.0   0.0   0.0   0.0   0.0  \n",
       "\n",
       "[5 rows x 3706 columns]"
      ]
     },
     "execution_count": 51,
     "metadata": {},
     "output_type": "execute_result"
    }
   ],
   "source": [
    "Ratings = ratings.pivot(index = 'user_id', columns ='movie_id', values = 'rating').fillna(0)\n",
    "Ratings.head()"
   ]
  },
  {
   "cell_type": "code",
   "execution_count": 52,
   "metadata": {
    "collapsed": true,
    "deletable": true,
    "editable": true
   },
   "outputs": [],
   "source": [
    "R = Ratings.as_matrix()\n",
    "user_ratings_mean = np.mean(R, axis = 1)\n",
    "Ratings_demeaned = R - user_ratings_mean.reshape(-1, 1)"
   ]
  },
  {
   "cell_type": "code",
   "execution_count": 53,
   "metadata": {
    "collapsed": false,
    "deletable": true,
    "editable": true
   },
   "outputs": [
    {
     "name": "stdout",
     "output_type": "stream",
     "text": [
      "The sparsity level of MovieLens1M dataset is 95.5%\n"
     ]
    }
   ],
   "source": [
    "sparsity = round(1.0 - len(ratings) / float(n_users * n_movies), 3)\n",
    "print 'The sparsity level of MovieLens1M dataset is ' +  str(sparsity * 100) + '%'"
   ]
  },
  {
   "cell_type": "markdown",
   "metadata": {},
   "source": [
    "Scipy and Numpy both have functions to do the singular value decomposition. I'm going to use the Scipy function svds because it let's me choose how many latent factors I want to use to approximate the original ratings matrix (instead of having to truncate it after)."
   ]
  },
  {
   "cell_type": "code",
   "execution_count": 54,
   "metadata": {
    "collapsed": true,
    "deletable": true,
    "editable": true
   },
   "outputs": [],
   "source": [
    "from scipy.sparse.linalg import svds\n",
    "U, sigma, Vt = svds(Ratings_demeaned, k = 50)"
   ]
  },
  {
   "cell_type": "markdown",
   "metadata": {},
   "source": [
    "As I'm going to leverage matrix multiplication to get predictions, I'll convert the values to the diagonal matrix form."
   ]
  },
  {
   "cell_type": "code",
   "execution_count": 55,
   "metadata": {
    "collapsed": true,
    "deletable": true,
    "editable": true
   },
   "outputs": [],
   "source": [
    "sigma = np.diag(sigma)"
   ]
  },
  {
   "cell_type": "markdown",
   "metadata": {},
   "source": [
    "Making Predictions from the Decomposed Matrices\n",
    "I now have everything I need to make movie ratings predictions for every user. I can do it all at once by following the math and matrix multiply U, Diagonal Matrices, and V back to get the rank k=50 approximation of A.\n",
    "\n",
    "But first, I need to add the user means back to get the actual star ratings prediction."
   ]
  },
  {
   "cell_type": "code",
   "execution_count": 56,
   "metadata": {
    "collapsed": true,
    "deletable": true,
    "editable": true
   },
   "outputs": [],
   "source": [
    "all_user_predicted_ratings = np.dot(np.dot(U, sigma), Vt) + user_ratings_mean.reshape(-1, 1)"
   ]
  },
  {
   "cell_type": "markdown",
   "metadata": {},
   "source": [
    "With the predictions matrix for every user, I can build a function to recommend movies for any user. I return the list of movies the user has already rated, for the sake of comparison."
   ]
  },
  {
   "cell_type": "code",
   "execution_count": 57,
   "metadata": {
    "collapsed": false,
    "deletable": true,
    "editable": true
   },
   "outputs": [
    {
     "data": {
      "text/html": [
       "<div>\n",
       "<table border=\"1\" class=\"dataframe\">\n",
       "  <thead>\n",
       "    <tr style=\"text-align: right;\">\n",
       "      <th>movie_id</th>\n",
       "      <th>1</th>\n",
       "      <th>2</th>\n",
       "      <th>3</th>\n",
       "      <th>4</th>\n",
       "      <th>5</th>\n",
       "      <th>6</th>\n",
       "      <th>7</th>\n",
       "      <th>8</th>\n",
       "      <th>9</th>\n",
       "      <th>10</th>\n",
       "      <th>...</th>\n",
       "      <th>3943</th>\n",
       "      <th>3944</th>\n",
       "      <th>3945</th>\n",
       "      <th>3946</th>\n",
       "      <th>3947</th>\n",
       "      <th>3948</th>\n",
       "      <th>3949</th>\n",
       "      <th>3950</th>\n",
       "      <th>3951</th>\n",
       "      <th>3952</th>\n",
       "    </tr>\n",
       "  </thead>\n",
       "  <tbody>\n",
       "    <tr>\n",
       "      <th>0</th>\n",
       "      <td>4.288861</td>\n",
       "      <td>0.143055</td>\n",
       "      <td>-0.195080</td>\n",
       "      <td>-0.018843</td>\n",
       "      <td>0.012232</td>\n",
       "      <td>-0.176604</td>\n",
       "      <td>-0.074120</td>\n",
       "      <td>0.141358</td>\n",
       "      <td>-0.059553</td>\n",
       "      <td>-0.195950</td>\n",
       "      <td>...</td>\n",
       "      <td>0.027807</td>\n",
       "      <td>0.001640</td>\n",
       "      <td>0.026395</td>\n",
       "      <td>-0.022024</td>\n",
       "      <td>-0.085415</td>\n",
       "      <td>0.403529</td>\n",
       "      <td>0.105579</td>\n",
       "      <td>0.031912</td>\n",
       "      <td>0.050450</td>\n",
       "      <td>0.088910</td>\n",
       "    </tr>\n",
       "    <tr>\n",
       "      <th>1</th>\n",
       "      <td>0.744716</td>\n",
       "      <td>0.169659</td>\n",
       "      <td>0.335418</td>\n",
       "      <td>0.000758</td>\n",
       "      <td>0.022475</td>\n",
       "      <td>1.353050</td>\n",
       "      <td>0.051426</td>\n",
       "      <td>0.071258</td>\n",
       "      <td>0.161601</td>\n",
       "      <td>1.567246</td>\n",
       "      <td>...</td>\n",
       "      <td>-0.056502</td>\n",
       "      <td>-0.013733</td>\n",
       "      <td>-0.010580</td>\n",
       "      <td>0.062576</td>\n",
       "      <td>-0.016248</td>\n",
       "      <td>0.155790</td>\n",
       "      <td>-0.418737</td>\n",
       "      <td>-0.101102</td>\n",
       "      <td>-0.054098</td>\n",
       "      <td>-0.140188</td>\n",
       "    </tr>\n",
       "    <tr>\n",
       "      <th>2</th>\n",
       "      <td>1.818824</td>\n",
       "      <td>0.456136</td>\n",
       "      <td>0.090978</td>\n",
       "      <td>-0.043037</td>\n",
       "      <td>-0.025694</td>\n",
       "      <td>-0.158617</td>\n",
       "      <td>-0.131778</td>\n",
       "      <td>0.098977</td>\n",
       "      <td>0.030551</td>\n",
       "      <td>0.735470</td>\n",
       "      <td>...</td>\n",
       "      <td>0.040481</td>\n",
       "      <td>-0.005301</td>\n",
       "      <td>0.012832</td>\n",
       "      <td>0.029349</td>\n",
       "      <td>0.020866</td>\n",
       "      <td>0.121532</td>\n",
       "      <td>0.076205</td>\n",
       "      <td>0.012345</td>\n",
       "      <td>0.015148</td>\n",
       "      <td>-0.109956</td>\n",
       "    </tr>\n",
       "    <tr>\n",
       "      <th>3</th>\n",
       "      <td>0.408057</td>\n",
       "      <td>-0.072960</td>\n",
       "      <td>0.039642</td>\n",
       "      <td>0.089363</td>\n",
       "      <td>0.041950</td>\n",
       "      <td>0.237753</td>\n",
       "      <td>-0.049426</td>\n",
       "      <td>0.009467</td>\n",
       "      <td>0.045469</td>\n",
       "      <td>-0.111370</td>\n",
       "      <td>...</td>\n",
       "      <td>0.008571</td>\n",
       "      <td>-0.005425</td>\n",
       "      <td>-0.008500</td>\n",
       "      <td>-0.003417</td>\n",
       "      <td>-0.083982</td>\n",
       "      <td>0.094512</td>\n",
       "      <td>0.057557</td>\n",
       "      <td>-0.026050</td>\n",
       "      <td>0.014841</td>\n",
       "      <td>-0.034224</td>\n",
       "    </tr>\n",
       "    <tr>\n",
       "      <th>4</th>\n",
       "      <td>1.574272</td>\n",
       "      <td>0.021239</td>\n",
       "      <td>-0.051300</td>\n",
       "      <td>0.246884</td>\n",
       "      <td>-0.032406</td>\n",
       "      <td>1.552281</td>\n",
       "      <td>-0.199630</td>\n",
       "      <td>-0.014920</td>\n",
       "      <td>-0.060498</td>\n",
       "      <td>0.450512</td>\n",
       "      <td>...</td>\n",
       "      <td>0.110151</td>\n",
       "      <td>0.046010</td>\n",
       "      <td>0.006934</td>\n",
       "      <td>-0.015940</td>\n",
       "      <td>-0.050080</td>\n",
       "      <td>-0.052539</td>\n",
       "      <td>0.507189</td>\n",
       "      <td>0.033830</td>\n",
       "      <td>0.125706</td>\n",
       "      <td>0.199244</td>\n",
       "    </tr>\n",
       "  </tbody>\n",
       "</table>\n",
       "<p>5 rows × 3706 columns</p>\n",
       "</div>"
      ],
      "text/plain": [
       "movie_id      1         2         3         4         5         6     \\\n",
       "0         4.288861  0.143055 -0.195080 -0.018843  0.012232 -0.176604   \n",
       "1         0.744716  0.169659  0.335418  0.000758  0.022475  1.353050   \n",
       "2         1.818824  0.456136  0.090978 -0.043037 -0.025694 -0.158617   \n",
       "3         0.408057 -0.072960  0.039642  0.089363  0.041950  0.237753   \n",
       "4         1.574272  0.021239 -0.051300  0.246884 -0.032406  1.552281   \n",
       "\n",
       "movie_id      7         8         9         10      ...         3943  \\\n",
       "0        -0.074120  0.141358 -0.059553 -0.195950    ...     0.027807   \n",
       "1         0.051426  0.071258  0.161601  1.567246    ...    -0.056502   \n",
       "2        -0.131778  0.098977  0.030551  0.735470    ...     0.040481   \n",
       "3        -0.049426  0.009467  0.045469 -0.111370    ...     0.008571   \n",
       "4        -0.199630 -0.014920 -0.060498  0.450512    ...     0.110151   \n",
       "\n",
       "movie_id      3944      3945      3946      3947      3948      3949  \\\n",
       "0         0.001640  0.026395 -0.022024 -0.085415  0.403529  0.105579   \n",
       "1        -0.013733 -0.010580  0.062576 -0.016248  0.155790 -0.418737   \n",
       "2        -0.005301  0.012832  0.029349  0.020866  0.121532  0.076205   \n",
       "3        -0.005425 -0.008500 -0.003417 -0.083982  0.094512  0.057557   \n",
       "4         0.046010  0.006934 -0.015940 -0.050080 -0.052539  0.507189   \n",
       "\n",
       "movie_id      3950      3951      3952  \n",
       "0         0.031912  0.050450  0.088910  \n",
       "1        -0.101102 -0.054098 -0.140188  \n",
       "2         0.012345  0.015148 -0.109956  \n",
       "3        -0.026050  0.014841 -0.034224  \n",
       "4         0.033830  0.125706  0.199244  \n",
       "\n",
       "[5 rows x 3706 columns]"
      ]
     },
     "execution_count": 57,
     "metadata": {},
     "output_type": "execute_result"
    }
   ],
   "source": [
    "preds = pd.DataFrame(all_user_predicted_ratings, columns = Ratings.columns)\n",
    "preds.head()"
   ]
  },
  {
   "cell_type": "markdown",
   "metadata": {},
   "source": [
    "Now we write a function to return the movies with the highest predicted rating that the specified user hasn't already rated. Though I didn't use any explicit movie content features (such as genre or title), We will merge in that information to get a more complete picture of the recommendations."
   ]
  },
  {
   "cell_type": "code",
   "execution_count": 58,
   "metadata": {
    "collapsed": true,
    "deletable": true,
    "editable": true
   },
   "outputs": [],
   "source": [
    "def recommend_movies(predictions, userID, movies, original_ratings, num_recommendations):\n",
    "    \n",
    "    # Get and sort the user's predictions\n",
    "    user_row_number = userID - 1 # User ID starts at 1, not 0\n",
    "    sorted_user_predictions = preds.iloc[user_row_number].sort_values(ascending=False) # User ID starts at 1\n",
    "    \n",
    "    # Get the user's data and merge in the movie information.\n",
    "    user_data = original_ratings[original_ratings.user_id == (userID)]\n",
    "    user_full = (user_data.merge(movies, how = 'left', left_on = 'movie_id', right_on = 'movie_id').\n",
    "                     sort_values(['rating'], ascending=False)\n",
    "                 )\n",
    "\n",
    "    print 'User {0} has already rated {1} movies.'.format(userID, user_full.shape[0])\n",
    "    print 'Recommending highest {0} predicted ratings movies not already rated.'.format(num_recommendations)\n",
    "    \n",
    "    # Recommend the highest predicted rating movies that the user hasn't seen yet.\n",
    "    recommendations = (movies[~movies['movie_id'].isin(user_full['movie_id'])].\n",
    "         merge(pd.DataFrame(sorted_user_predictions).reset_index(), how = 'left',\n",
    "               left_on = 'movie_id',\n",
    "               right_on = 'movie_id').\n",
    "         rename(columns = {user_row_number: 'Predictions'}).\n",
    "         sort_values('Predictions', ascending = False).\n",
    "                       iloc[:num_recommendations, :-1]\n",
    "                      )\n",
    "\n",
    "    return user_full, recommendations"
   ]
  },
  {
   "cell_type": "code",
   "execution_count": 59,
   "metadata": {
    "collapsed": false,
    "deletable": true,
    "editable": true
   },
   "outputs": [
    {
     "name": "stdout",
     "output_type": "stream",
     "text": [
      "User 1310 has already rated 24 movies.\n",
      "Recommending highest 20 predicted ratings movies not already rated.\n"
     ]
    }
   ],
   "source": [
    "#Let's try to recommend 20 movies for user with ID 1310.\n",
    "already_rated, predictions = recommend_movies(preds, 1310, movies, ratings, 20)"
   ]
  },
  {
   "cell_type": "code",
   "execution_count": 60,
   "metadata": {
    "collapsed": false,
    "deletable": true,
    "editable": true
   },
   "outputs": [
    {
     "data": {
      "text/html": [
       "<div>\n",
       "<table border=\"1\" class=\"dataframe\">\n",
       "  <thead>\n",
       "    <tr style=\"text-align: right;\">\n",
       "      <th></th>\n",
       "      <th>user_id</th>\n",
       "      <th>movie_id</th>\n",
       "      <th>rating</th>\n",
       "      <th>timestamp</th>\n",
       "      <th>title</th>\n",
       "      <th>genre</th>\n",
       "    </tr>\n",
       "  </thead>\n",
       "  <tbody>\n",
       "    <tr>\n",
       "      <th>5</th>\n",
       "      <td>1310</td>\n",
       "      <td>2248</td>\n",
       "      <td>5</td>\n",
       "      <td>974781573</td>\n",
       "      <td>Say Anything... (1989)</td>\n",
       "      <td>Comedy|Drama|Romance</td>\n",
       "    </tr>\n",
       "    <tr>\n",
       "      <th>6</th>\n",
       "      <td>1310</td>\n",
       "      <td>2620</td>\n",
       "      <td>5</td>\n",
       "      <td>974781573</td>\n",
       "      <td>This Is My Father (1998)</td>\n",
       "      <td>Drama|Romance</td>\n",
       "    </tr>\n",
       "    <tr>\n",
       "      <th>7</th>\n",
       "      <td>1310</td>\n",
       "      <td>3683</td>\n",
       "      <td>5</td>\n",
       "      <td>974781935</td>\n",
       "      <td>Blood Simple (1984)</td>\n",
       "      <td>Drama|Film-Noir</td>\n",
       "    </tr>\n",
       "    <tr>\n",
       "      <th>15</th>\n",
       "      <td>1310</td>\n",
       "      <td>1704</td>\n",
       "      <td>5</td>\n",
       "      <td>974781573</td>\n",
       "      <td>Good Will Hunting (1997)</td>\n",
       "      <td>Drama</td>\n",
       "    </tr>\n",
       "    <tr>\n",
       "      <th>1</th>\n",
       "      <td>1310</td>\n",
       "      <td>1293</td>\n",
       "      <td>5</td>\n",
       "      <td>974781839</td>\n",
       "      <td>Gandhi (1982)</td>\n",
       "      <td>Drama</td>\n",
       "    </tr>\n",
       "    <tr>\n",
       "      <th>12</th>\n",
       "      <td>1310</td>\n",
       "      <td>3101</td>\n",
       "      <td>4</td>\n",
       "      <td>974781573</td>\n",
       "      <td>Fatal Attraction (1987)</td>\n",
       "      <td>Thriller</td>\n",
       "    </tr>\n",
       "    <tr>\n",
       "      <th>11</th>\n",
       "      <td>1310</td>\n",
       "      <td>1343</td>\n",
       "      <td>4</td>\n",
       "      <td>974781534</td>\n",
       "      <td>Cape Fear (1991)</td>\n",
       "      <td>Thriller</td>\n",
       "    </tr>\n",
       "    <tr>\n",
       "      <th>20</th>\n",
       "      <td>1310</td>\n",
       "      <td>2000</td>\n",
       "      <td>4</td>\n",
       "      <td>974781892</td>\n",
       "      <td>Lethal Weapon (1987)</td>\n",
       "      <td>Action|Comedy|Crime|Drama</td>\n",
       "    </tr>\n",
       "    <tr>\n",
       "      <th>18</th>\n",
       "      <td>1310</td>\n",
       "      <td>3526</td>\n",
       "      <td>4</td>\n",
       "      <td>974781892</td>\n",
       "      <td>Parenthood (1989)</td>\n",
       "      <td>Comedy|Drama</td>\n",
       "    </tr>\n",
       "    <tr>\n",
       "      <th>17</th>\n",
       "      <td>1310</td>\n",
       "      <td>3360</td>\n",
       "      <td>4</td>\n",
       "      <td>974781935</td>\n",
       "      <td>Hoosiers (1986)</td>\n",
       "      <td>Drama</td>\n",
       "    </tr>\n",
       "    <tr>\n",
       "      <th>13</th>\n",
       "      <td>1310</td>\n",
       "      <td>3111</td>\n",
       "      <td>4</td>\n",
       "      <td>974782001</td>\n",
       "      <td>Places in the Heart (1984)</td>\n",
       "      <td>Drama</td>\n",
       "    </tr>\n",
       "    <tr>\n",
       "      <th>23</th>\n",
       "      <td>1310</td>\n",
       "      <td>1097</td>\n",
       "      <td>4</td>\n",
       "      <td>974781534</td>\n",
       "      <td>E.T. the Extra-Terrestrial (1982)</td>\n",
       "      <td>Children's|Drama|Fantasy|Sci-Fi</td>\n",
       "    </tr>\n",
       "    <tr>\n",
       "      <th>10</th>\n",
       "      <td>1310</td>\n",
       "      <td>1196</td>\n",
       "      <td>4</td>\n",
       "      <td>974781701</td>\n",
       "      <td>Star Wars: Episode V - The Empire Strikes Back...</td>\n",
       "      <td>Action|Adventure|Drama|Sci-Fi|War</td>\n",
       "    </tr>\n",
       "    <tr>\n",
       "      <th>9</th>\n",
       "      <td>1310</td>\n",
       "      <td>1185</td>\n",
       "      <td>4</td>\n",
       "      <td>974781839</td>\n",
       "      <td>My Left Foot (1989)</td>\n",
       "      <td>Drama</td>\n",
       "    </tr>\n",
       "    <tr>\n",
       "      <th>8</th>\n",
       "      <td>1310</td>\n",
       "      <td>3685</td>\n",
       "      <td>4</td>\n",
       "      <td>974781935</td>\n",
       "      <td>Prizzi's Honor (1985)</td>\n",
       "      <td>Comedy|Drama|Romance</td>\n",
       "    </tr>\n",
       "    <tr>\n",
       "      <th>4</th>\n",
       "      <td>1310</td>\n",
       "      <td>2243</td>\n",
       "      <td>4</td>\n",
       "      <td>974782001</td>\n",
       "      <td>Broadcast News (1987)</td>\n",
       "      <td>Comedy|Drama|Romance</td>\n",
       "    </tr>\n",
       "    <tr>\n",
       "      <th>3</th>\n",
       "      <td>1310</td>\n",
       "      <td>1299</td>\n",
       "      <td>4</td>\n",
       "      <td>974781701</td>\n",
       "      <td>Killing Fields, The (1984)</td>\n",
       "      <td>Drama|War</td>\n",
       "    </tr>\n",
       "    <tr>\n",
       "      <th>16</th>\n",
       "      <td>1310</td>\n",
       "      <td>144</td>\n",
       "      <td>3</td>\n",
       "      <td>974781573</td>\n",
       "      <td>Brothers McMullen, The (1995)</td>\n",
       "      <td>Comedy</td>\n",
       "    </tr>\n",
       "    <tr>\n",
       "      <th>19</th>\n",
       "      <td>1310</td>\n",
       "      <td>1960</td>\n",
       "      <td>3</td>\n",
       "      <td>974782001</td>\n",
       "      <td>Last Emperor, The (1987)</td>\n",
       "      <td>Drama|War</td>\n",
       "    </tr>\n",
       "    <tr>\n",
       "      <th>0</th>\n",
       "      <td>1310</td>\n",
       "      <td>2988</td>\n",
       "      <td>3</td>\n",
       "      <td>974781935</td>\n",
       "      <td>Melvin and Howard (1980)</td>\n",
       "      <td>Drama</td>\n",
       "    </tr>\n",
       "  </tbody>\n",
       "</table>\n",
       "</div>"
      ],
      "text/plain": [
       "    user_id  movie_id  rating  timestamp  \\\n",
       "5      1310      2248       5  974781573   \n",
       "6      1310      2620       5  974781573   \n",
       "7      1310      3683       5  974781935   \n",
       "15     1310      1704       5  974781573   \n",
       "1      1310      1293       5  974781839   \n",
       "12     1310      3101       4  974781573   \n",
       "11     1310      1343       4  974781534   \n",
       "20     1310      2000       4  974781892   \n",
       "18     1310      3526       4  974781892   \n",
       "17     1310      3360       4  974781935   \n",
       "13     1310      3111       4  974782001   \n",
       "23     1310      1097       4  974781534   \n",
       "10     1310      1196       4  974781701   \n",
       "9      1310      1185       4  974781839   \n",
       "8      1310      3685       4  974781935   \n",
       "4      1310      2243       4  974782001   \n",
       "3      1310      1299       4  974781701   \n",
       "16     1310       144       3  974781573   \n",
       "19     1310      1960       3  974782001   \n",
       "0      1310      2988       3  974781935   \n",
       "\n",
       "                                                title  \\\n",
       "5                              Say Anything... (1989)   \n",
       "6                            This Is My Father (1998)   \n",
       "7                                 Blood Simple (1984)   \n",
       "15                           Good Will Hunting (1997)   \n",
       "1                                       Gandhi (1982)   \n",
       "12                            Fatal Attraction (1987)   \n",
       "11                                   Cape Fear (1991)   \n",
       "20                               Lethal Weapon (1987)   \n",
       "18                                  Parenthood (1989)   \n",
       "17                                    Hoosiers (1986)   \n",
       "13                         Places in the Heart (1984)   \n",
       "23                  E.T. the Extra-Terrestrial (1982)   \n",
       "10  Star Wars: Episode V - The Empire Strikes Back...   \n",
       "9                                 My Left Foot (1989)   \n",
       "8                               Prizzi's Honor (1985)   \n",
       "4                               Broadcast News (1987)   \n",
       "3                          Killing Fields, The (1984)   \n",
       "16                      Brothers McMullen, The (1995)   \n",
       "19                           Last Emperor, The (1987)   \n",
       "0                            Melvin and Howard (1980)   \n",
       "\n",
       "                                genre  \n",
       "5                Comedy|Drama|Romance  \n",
       "6                       Drama|Romance  \n",
       "7                     Drama|Film-Noir  \n",
       "15                              Drama  \n",
       "1                               Drama  \n",
       "12                           Thriller  \n",
       "11                           Thriller  \n",
       "20          Action|Comedy|Crime|Drama  \n",
       "18                       Comedy|Drama  \n",
       "17                              Drama  \n",
       "13                              Drama  \n",
       "23    Children's|Drama|Fantasy|Sci-Fi  \n",
       "10  Action|Adventure|Drama|Sci-Fi|War  \n",
       "9                               Drama  \n",
       "8                Comedy|Drama|Romance  \n",
       "4                Comedy|Drama|Romance  \n",
       "3                           Drama|War  \n",
       "16                             Comedy  \n",
       "19                          Drama|War  \n",
       "0                               Drama  "
      ]
     },
     "execution_count": 60,
     "metadata": {},
     "output_type": "execute_result"
    }
   ],
   "source": [
    "# Top 20 movies that User 1310 has rated \n",
    "already_rated.head(20)"
   ]
  },
  {
   "cell_type": "code",
   "execution_count": 61,
   "metadata": {
    "collapsed": false,
    "deletable": true,
    "editable": true
   },
   "outputs": [
    {
     "data": {
      "text/html": [
       "<div>\n",
       "<table border=\"1\" class=\"dataframe\">\n",
       "  <thead>\n",
       "    <tr style=\"text-align: right;\">\n",
       "      <th></th>\n",
       "      <th>movie_id</th>\n",
       "      <th>title</th>\n",
       "      <th>genre</th>\n",
       "    </tr>\n",
       "  </thead>\n",
       "  <tbody>\n",
       "    <tr>\n",
       "      <th>1618</th>\n",
       "      <td>1674</td>\n",
       "      <td>Witness (1985)</td>\n",
       "      <td>Drama|Romance|Thriller</td>\n",
       "    </tr>\n",
       "    <tr>\n",
       "      <th>1880</th>\n",
       "      <td>1961</td>\n",
       "      <td>Rain Man (1988)</td>\n",
       "      <td>Drama</td>\n",
       "    </tr>\n",
       "    <tr>\n",
       "      <th>1187</th>\n",
       "      <td>1210</td>\n",
       "      <td>Star Wars: Episode VI - Return of the Jedi (1983)</td>\n",
       "      <td>Action|Adventure|Romance|Sci-Fi|War</td>\n",
       "    </tr>\n",
       "    <tr>\n",
       "      <th>1216</th>\n",
       "      <td>1242</td>\n",
       "      <td>Glory (1989)</td>\n",
       "      <td>Action|Drama|War</td>\n",
       "    </tr>\n",
       "    <tr>\n",
       "      <th>1202</th>\n",
       "      <td>1225</td>\n",
       "      <td>Amadeus (1984)</td>\n",
       "      <td>Drama</td>\n",
       "    </tr>\n",
       "    <tr>\n",
       "      <th>1273</th>\n",
       "      <td>1302</td>\n",
       "      <td>Field of Dreams (1989)</td>\n",
       "      <td>Drama</td>\n",
       "    </tr>\n",
       "    <tr>\n",
       "      <th>1220</th>\n",
       "      <td>1246</td>\n",
       "      <td>Dead Poets Society (1989)</td>\n",
       "      <td>Drama</td>\n",
       "    </tr>\n",
       "    <tr>\n",
       "      <th>1881</th>\n",
       "      <td>1962</td>\n",
       "      <td>Driving Miss Daisy (1989)</td>\n",
       "      <td>Drama</td>\n",
       "    </tr>\n",
       "    <tr>\n",
       "      <th>1877</th>\n",
       "      <td>1957</td>\n",
       "      <td>Chariots of Fire (1981)</td>\n",
       "      <td>Drama</td>\n",
       "    </tr>\n",
       "    <tr>\n",
       "      <th>1938</th>\n",
       "      <td>2020</td>\n",
       "      <td>Dangerous Liaisons (1988)</td>\n",
       "      <td>Drama|Romance</td>\n",
       "    </tr>\n",
       "    <tr>\n",
       "      <th>1233</th>\n",
       "      <td>1259</td>\n",
       "      <td>Stand by Me (1986)</td>\n",
       "      <td>Adventure|Comedy|Drama</td>\n",
       "    </tr>\n",
       "    <tr>\n",
       "      <th>3011</th>\n",
       "      <td>3098</td>\n",
       "      <td>Natural, The (1984)</td>\n",
       "      <td>Drama</td>\n",
       "    </tr>\n",
       "    <tr>\n",
       "      <th>2112</th>\n",
       "      <td>2194</td>\n",
       "      <td>Untouchables, The (1987)</td>\n",
       "      <td>Action|Crime|Drama</td>\n",
       "    </tr>\n",
       "    <tr>\n",
       "      <th>1876</th>\n",
       "      <td>1956</td>\n",
       "      <td>Ordinary People (1980)</td>\n",
       "      <td>Drama</td>\n",
       "    </tr>\n",
       "    <tr>\n",
       "      <th>1268</th>\n",
       "      <td>1296</td>\n",
       "      <td>Room with a View, A (1986)</td>\n",
       "      <td>Drama|Romance</td>\n",
       "    </tr>\n",
       "    <tr>\n",
       "      <th>2267</th>\n",
       "      <td>2352</td>\n",
       "      <td>Big Chill, The (1983)</td>\n",
       "      <td>Comedy|Drama</td>\n",
       "    </tr>\n",
       "    <tr>\n",
       "      <th>1278</th>\n",
       "      <td>1307</td>\n",
       "      <td>When Harry Met Sally... (1989)</td>\n",
       "      <td>Comedy|Romance</td>\n",
       "    </tr>\n",
       "    <tr>\n",
       "      <th>1165</th>\n",
       "      <td>1186</td>\n",
       "      <td>Sex, Lies, and Videotape (1989)</td>\n",
       "      <td>Drama</td>\n",
       "    </tr>\n",
       "    <tr>\n",
       "      <th>1199</th>\n",
       "      <td>1222</td>\n",
       "      <td>Full Metal Jacket (1987)</td>\n",
       "      <td>Action|Drama|War</td>\n",
       "    </tr>\n",
       "    <tr>\n",
       "      <th>2833</th>\n",
       "      <td>2919</td>\n",
       "      <td>Year of Living Dangerously (1982)</td>\n",
       "      <td>Drama|Romance</td>\n",
       "    </tr>\n",
       "  </tbody>\n",
       "</table>\n",
       "</div>"
      ],
      "text/plain": [
       "      movie_id                                              title  \\\n",
       "1618      1674                                     Witness (1985)   \n",
       "1880      1961                                    Rain Man (1988)   \n",
       "1187      1210  Star Wars: Episode VI - Return of the Jedi (1983)   \n",
       "1216      1242                                       Glory (1989)   \n",
       "1202      1225                                     Amadeus (1984)   \n",
       "1273      1302                             Field of Dreams (1989)   \n",
       "1220      1246                          Dead Poets Society (1989)   \n",
       "1881      1962                          Driving Miss Daisy (1989)   \n",
       "1877      1957                            Chariots of Fire (1981)   \n",
       "1938      2020                          Dangerous Liaisons (1988)   \n",
       "1233      1259                                 Stand by Me (1986)   \n",
       "3011      3098                                Natural, The (1984)   \n",
       "2112      2194                           Untouchables, The (1987)   \n",
       "1876      1956                             Ordinary People (1980)   \n",
       "1268      1296                         Room with a View, A (1986)   \n",
       "2267      2352                              Big Chill, The (1983)   \n",
       "1278      1307                     When Harry Met Sally... (1989)   \n",
       "1165      1186                    Sex, Lies, and Videotape (1989)   \n",
       "1199      1222                           Full Metal Jacket (1987)   \n",
       "2833      2919                  Year of Living Dangerously (1982)   \n",
       "\n",
       "                                    genre  \n",
       "1618               Drama|Romance|Thriller  \n",
       "1880                                Drama  \n",
       "1187  Action|Adventure|Romance|Sci-Fi|War  \n",
       "1216                     Action|Drama|War  \n",
       "1202                                Drama  \n",
       "1273                                Drama  \n",
       "1220                                Drama  \n",
       "1881                                Drama  \n",
       "1877                                Drama  \n",
       "1938                        Drama|Romance  \n",
       "1233               Adventure|Comedy|Drama  \n",
       "3011                                Drama  \n",
       "2112                   Action|Crime|Drama  \n",
       "1876                                Drama  \n",
       "1268                        Drama|Romance  \n",
       "2267                         Comedy|Drama  \n",
       "1278                       Comedy|Romance  \n",
       "1165                                Drama  \n",
       "1199                     Action|Drama|War  \n",
       "2833                        Drama|Romance  "
      ]
     },
     "execution_count": 61,
     "metadata": {},
     "output_type": "execute_result"
    }
   ],
   "source": [
    "# Top 20 movies that User 1310 hopefully will enjoy\n",
    "predictions"
   ]
  },
  {
   "cell_type": "markdown",
   "metadata": {},
   "source": [
    "These look like pretty good recommendations. It's good to see that, although we didn't actually use the genre of the movie as a feature, the truncated matrix factorization features \"picked up\" on the underlying tastes and preferences of the user. The model has recommended some comedy, drama, and romance movies - all of which were genres of some of this user's top rated movies."
   ]
  },
  {
   "cell_type": "markdown",
   "metadata": {},
   "source": [
    "<h5> SVD Model Evaluation <h5>"
   ]
  },
  {
   "cell_type": "code",
   "execution_count": 62,
   "metadata": {
    "collapsed": false,
    "deletable": true,
    "editable": true
   },
   "outputs": [],
   "source": [
    "# Import libraries from Surprise package\n",
    "from surprise import Reader, Dataset, SVD, evaluate"
   ]
  },
  {
   "cell_type": "code",
   "execution_count": 63,
   "metadata": {
    "collapsed": true,
    "deletable": true,
    "editable": true
   },
   "outputs": [],
   "source": [
    "# Load Reader library\n",
    "reader = Reader()\n",
    "\n",
    "# Load ratings dataset with Dataset library\n",
    "data = Dataset.load_from_df(ratings[['user_id', 'movie_id', 'rating']], reader)\n",
    "\n",
    "# Split the dataset for 5-fold evaluation\n",
    "data.split(n_folds=5)"
   ]
  },
  {
   "cell_type": "code",
   "execution_count": 64,
   "metadata": {
    "collapsed": false,
    "deletable": true,
    "editable": true
   },
   "outputs": [],
   "source": [
    "# Use the SVD algorithm.\n",
    "svd = SVD()"
   ]
  },
  {
   "cell_type": "code",
   "execution_count": 65,
   "metadata": {
    "collapsed": false,
    "deletable": true,
    "editable": true
   },
   "outputs": [
    {
     "name": "stderr",
     "output_type": "stream",
     "text": [
      "/Users/abhinavkashyap/anaconda2/envs/gl-env/lib/python2.7/site-packages/surprise/evaluate.py:66: UserWarning: The evaluate() method is deprecated. Please use model_selection.cross_validate() instead.\n",
      "  'model_selection.cross_validate() instead.', UserWarning)\n",
      "/Users/abhinavkashyap/anaconda2/envs/gl-env/lib/python2.7/site-packages/surprise/dataset.py:193: UserWarning: Using data.split() or using load_from_folds() without using a CV iterator is now deprecated. \n",
      "  UserWarning)\n"
     ]
    },
    {
     "name": "stdout",
     "output_type": "stream",
     "text": [
      "Evaluating RMSE of algorithm SVD.\n",
      "\n",
      "------------\n",
      "Fold 1\n",
      "RMSE: 0.8750\n",
      "------------\n",
      "Fold 2\n",
      "RMSE: 0.8754\n",
      "------------\n",
      "Fold 3\n",
      "RMSE: 0.8724\n",
      "------------\n",
      "Fold 4\n",
      "RMSE: 0.8719\n",
      "------------\n",
      "Fold 5\n",
      "RMSE: 0.8744\n",
      "------------\n",
      "------------\n",
      "Mean RMSE: 0.8738\n",
      "------------\n",
      "------------\n"
     ]
    },
    {
     "data": {
      "text/plain": [
       "CaseInsensitiveDefaultDict(list,\n",
       "                           {'rmse': [0.87504819687576207,\n",
       "                             0.87543160441464574,\n",
       "                             0.8724174198897463,\n",
       "                             0.87188613251889913,\n",
       "                             0.87438000111003145]})"
      ]
     },
     "execution_count": 65,
     "metadata": {},
     "output_type": "execute_result"
    }
   ],
   "source": [
    "# Compute the RMSE of the SVD algorithm.\n",
    "evaluate(svd, data, measures=['RMSE'])"
   ]
  },
  {
   "cell_type": "markdown",
   "metadata": {},
   "source": [
    "<b> An RMSE of 0.87 is very good considering we get the same result in each fold. Now, we can train the dataset and do our predictions <b>"
   ]
  },
  {
   "cell_type": "code",
   "execution_count": 66,
   "metadata": {
    "collapsed": false,
    "deletable": true,
    "editable": true
   },
   "outputs": [
    {
     "name": "stderr",
     "output_type": "stream",
     "text": [
      "/Users/abhinavkashyap/anaconda2/envs/gl-env/lib/python2.7/site-packages/surprise/prediction_algorithms/algo_base.py:51: UserWarning: train() is deprecated. Use fit() instead\n",
      "  warnings.warn('train() is deprecated. Use fit() instead', UserWarning)\n"
     ]
    },
    {
     "data": {
      "text/plain": [
       "<surprise.prediction_algorithms.matrix_factorization.SVD at 0x156050d90>"
      ]
     },
     "execution_count": 66,
     "metadata": {},
     "output_type": "execute_result"
    }
   ],
   "source": [
    "trainset = data.build_full_trainset()\n",
    "svd.train(trainset)"
   ]
  },
  {
   "cell_type": "code",
   "execution_count": 67,
   "metadata": {
    "collapsed": false,
    "deletable": true,
    "editable": true
   },
   "outputs": [
    {
     "data": {
      "text/html": [
       "<div>\n",
       "<table border=\"1\" class=\"dataframe\">\n",
       "  <thead>\n",
       "    <tr style=\"text-align: right;\">\n",
       "      <th></th>\n",
       "      <th>user_id</th>\n",
       "      <th>movie_id</th>\n",
       "      <th>rating</th>\n",
       "      <th>timestamp</th>\n",
       "    </tr>\n",
       "  </thead>\n",
       "  <tbody>\n",
       "    <tr>\n",
       "      <th>215928</th>\n",
       "      <td>1310</td>\n",
       "      <td>2988</td>\n",
       "      <td>3</td>\n",
       "      <td>974781935</td>\n",
       "    </tr>\n",
       "    <tr>\n",
       "      <th>215929</th>\n",
       "      <td>1310</td>\n",
       "      <td>1293</td>\n",
       "      <td>5</td>\n",
       "      <td>974781839</td>\n",
       "    </tr>\n",
       "    <tr>\n",
       "      <th>215930</th>\n",
       "      <td>1310</td>\n",
       "      <td>1295</td>\n",
       "      <td>2</td>\n",
       "      <td>974782001</td>\n",
       "    </tr>\n",
       "    <tr>\n",
       "      <th>215931</th>\n",
       "      <td>1310</td>\n",
       "      <td>1299</td>\n",
       "      <td>4</td>\n",
       "      <td>974781701</td>\n",
       "    </tr>\n",
       "    <tr>\n",
       "      <th>215932</th>\n",
       "      <td>1310</td>\n",
       "      <td>2243</td>\n",
       "      <td>4</td>\n",
       "      <td>974782001</td>\n",
       "    </tr>\n",
       "    <tr>\n",
       "      <th>215933</th>\n",
       "      <td>1310</td>\n",
       "      <td>2248</td>\n",
       "      <td>5</td>\n",
       "      <td>974781573</td>\n",
       "    </tr>\n",
       "    <tr>\n",
       "      <th>215934</th>\n",
       "      <td>1310</td>\n",
       "      <td>2620</td>\n",
       "      <td>5</td>\n",
       "      <td>974781573</td>\n",
       "    </tr>\n",
       "    <tr>\n",
       "      <th>215935</th>\n",
       "      <td>1310</td>\n",
       "      <td>3683</td>\n",
       "      <td>5</td>\n",
       "      <td>974781935</td>\n",
       "    </tr>\n",
       "    <tr>\n",
       "      <th>215936</th>\n",
       "      <td>1310</td>\n",
       "      <td>3685</td>\n",
       "      <td>4</td>\n",
       "      <td>974781935</td>\n",
       "    </tr>\n",
       "    <tr>\n",
       "      <th>215937</th>\n",
       "      <td>1310</td>\n",
       "      <td>1185</td>\n",
       "      <td>4</td>\n",
       "      <td>974781839</td>\n",
       "    </tr>\n",
       "    <tr>\n",
       "      <th>215938</th>\n",
       "      <td>1310</td>\n",
       "      <td>1196</td>\n",
       "      <td>4</td>\n",
       "      <td>974781701</td>\n",
       "    </tr>\n",
       "    <tr>\n",
       "      <th>215939</th>\n",
       "      <td>1310</td>\n",
       "      <td>1343</td>\n",
       "      <td>4</td>\n",
       "      <td>974781534</td>\n",
       "    </tr>\n",
       "    <tr>\n",
       "      <th>215940</th>\n",
       "      <td>1310</td>\n",
       "      <td>3101</td>\n",
       "      <td>4</td>\n",
       "      <td>974781573</td>\n",
       "    </tr>\n",
       "    <tr>\n",
       "      <th>215941</th>\n",
       "      <td>1310</td>\n",
       "      <td>3111</td>\n",
       "      <td>4</td>\n",
       "      <td>974782001</td>\n",
       "    </tr>\n",
       "    <tr>\n",
       "      <th>215942</th>\n",
       "      <td>1310</td>\n",
       "      <td>2313</td>\n",
       "      <td>2</td>\n",
       "      <td>974781839</td>\n",
       "    </tr>\n",
       "    <tr>\n",
       "      <th>215943</th>\n",
       "      <td>1310</td>\n",
       "      <td>1704</td>\n",
       "      <td>5</td>\n",
       "      <td>974781573</td>\n",
       "    </tr>\n",
       "    <tr>\n",
       "      <th>215944</th>\n",
       "      <td>1310</td>\n",
       "      <td>144</td>\n",
       "      <td>3</td>\n",
       "      <td>974781573</td>\n",
       "    </tr>\n",
       "    <tr>\n",
       "      <th>215945</th>\n",
       "      <td>1310</td>\n",
       "      <td>3360</td>\n",
       "      <td>4</td>\n",
       "      <td>974781935</td>\n",
       "    </tr>\n",
       "    <tr>\n",
       "      <th>215946</th>\n",
       "      <td>1310</td>\n",
       "      <td>3526</td>\n",
       "      <td>4</td>\n",
       "      <td>974781892</td>\n",
       "    </tr>\n",
       "    <tr>\n",
       "      <th>215947</th>\n",
       "      <td>1310</td>\n",
       "      <td>1960</td>\n",
       "      <td>3</td>\n",
       "      <td>974782001</td>\n",
       "    </tr>\n",
       "    <tr>\n",
       "      <th>215948</th>\n",
       "      <td>1310</td>\n",
       "      <td>2000</td>\n",
       "      <td>4</td>\n",
       "      <td>974781892</td>\n",
       "    </tr>\n",
       "    <tr>\n",
       "      <th>215949</th>\n",
       "      <td>1310</td>\n",
       "      <td>1231</td>\n",
       "      <td>2</td>\n",
       "      <td>974781963</td>\n",
       "    </tr>\n",
       "    <tr>\n",
       "      <th>215950</th>\n",
       "      <td>1310</td>\n",
       "      <td>1090</td>\n",
       "      <td>2</td>\n",
       "      <td>974781839</td>\n",
       "    </tr>\n",
       "    <tr>\n",
       "      <th>215951</th>\n",
       "      <td>1310</td>\n",
       "      <td>1097</td>\n",
       "      <td>4</td>\n",
       "      <td>974781534</td>\n",
       "    </tr>\n",
       "  </tbody>\n",
       "</table>\n",
       "</div>"
      ],
      "text/plain": [
       "        user_id  movie_id  rating  timestamp\n",
       "215928     1310      2988       3  974781935\n",
       "215929     1310      1293       5  974781839\n",
       "215930     1310      1295       2  974782001\n",
       "215931     1310      1299       4  974781701\n",
       "215932     1310      2243       4  974782001\n",
       "215933     1310      2248       5  974781573\n",
       "215934     1310      2620       5  974781573\n",
       "215935     1310      3683       5  974781935\n",
       "215936     1310      3685       4  974781935\n",
       "215937     1310      1185       4  974781839\n",
       "215938     1310      1196       4  974781701\n",
       "215939     1310      1343       4  974781534\n",
       "215940     1310      3101       4  974781573\n",
       "215941     1310      3111       4  974782001\n",
       "215942     1310      2313       2  974781839\n",
       "215943     1310      1704       5  974781573\n",
       "215944     1310       144       3  974781573\n",
       "215945     1310      3360       4  974781935\n",
       "215946     1310      3526       4  974781892\n",
       "215947     1310      1960       3  974782001\n",
       "215948     1310      2000       4  974781892\n",
       "215949     1310      1231       2  974781963\n",
       "215950     1310      1090       2  974781839\n",
       "215951     1310      1097       4  974781534"
      ]
     },
     "execution_count": 67,
     "metadata": {},
     "output_type": "execute_result"
    }
   ],
   "source": [
    "ratings[ratings['user_id'] == 1310]"
   ]
  },
  {
   "cell_type": "code",
   "execution_count": 68,
   "metadata": {
    "collapsed": false,
    "deletable": true,
    "editable": true
   },
   "outputs": [
    {
     "data": {
      "text/plain": [
       "Prediction(uid=1310, iid=1994, r_ui=None, est=3.2439072100154043, details={u'was_impossible': False})"
      ]
     },
     "execution_count": 68,
     "metadata": {},
     "output_type": "execute_result"
    }
   ],
   "source": [
    "svd.predict(1310, 1994)"
   ]
  },
  {
   "cell_type": "markdown",
   "metadata": {},
   "source": [
    "<b> For movie with ID 1994, I get an estimated prediction of 3.349. The recommender system works purely on the basis of an assigned movie ID and tries to predict ratings based on how the other users have predicted the movie. <b>"
   ]
  },
  {
   "cell_type": "markdown",
   "metadata": {},
   "source": [
    "<h1> Conclusion <h1>"
   ]
  },
  {
   "cell_type": "markdown",
   "metadata": {},
   "source": [
    "To recap, we ran three different models using the machine learning Python GraphLab library to recommend movies to users based on the movie rating data.   We decided to use a sampling of models and picked a simple popularity algorithm, an item-to-item collaborative filtering algorithm and a singular vector decomposition (SVD) classifier algorithm and took 80% of our data to train these three separate models.\n",
    "\n",
    "The SVD Classifier Model produced the most reasonable results and had the highest accuracy of our samples."
   ]
  }
 ],
 "metadata": {
  "kernelspec": {
   "display_name": "Python 2",
   "language": "python",
   "name": "python2"
  },
  "language_info": {
   "codemirror_mode": {
    "name": "ipython",
    "version": 2
   },
   "file_extension": ".py",
   "mimetype": "text/x-python",
   "name": "python",
   "nbconvert_exporter": "python",
   "pygments_lexer": "ipython2",
   "version": "2.7.11"
  }
 },
 "nbformat": 4,
 "nbformat_minor": 2
}
